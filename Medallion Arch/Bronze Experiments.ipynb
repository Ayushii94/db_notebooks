{
 "cells": [
  {
   "cell_type": "code",
   "execution_count": 0,
   "metadata": {
    "application/vnd.databricks.v1+cell": {
     "cellMetadata": {},
     "inputWidgets": {},
     "nuid": "aebc4d25-3c2e-46cf-85c6-223f4a8a0921",
     "showTitle": false,
     "title": ""
    }
   },
   "outputs": [],
   "source": [
    "bucket_name = \"msklspace\"\n",
    "mount_name = \"ayushi_ecom\"\n",
    "dbutils.fs.mount(\n",
    "  f\"gs://{bucket_name}\",\n",
    "  f\"/mnt/databricks/{mount_name}\",\n",
    "  extra_configs = {\"fs.gs.project.id\": \"mentorsko-1700569460412\"}\n",
    ")"
   ]
  },
  {
   "cell_type": "code",
   "execution_count": 0,
   "metadata": {
    "application/vnd.databricks.v1+cell": {
     "cellMetadata": {
      "byteLimit": 2048000,
      "implicitDf": true,
      "rowLimit": 10000
     },
     "inputWidgets": {},
     "nuid": "935ef60c-2018-4a96-9af6-b51a6402a74a",
     "showTitle": false,
     "title": ""
    }
   },
   "outputs": [],
   "source": [
    "%sql\n",
    "create schema bronze;"
   ]
  },
  {
   "cell_type": "code",
   "execution_count": 0,
   "metadata": {
    "application/vnd.databricks.v1+cell": {
     "cellMetadata": {
      "byteLimit": 2048000,
      "implicitDf": true,
      "rowLimit": 10000
     },
     "inputWidgets": {},
     "nuid": "daf24bfe-1328-4cfc-9107-2f0db7304b55",
     "showTitle": false,
     "title": ""
    }
   },
   "outputs": [],
   "source": [
    "%sql\n",
    "use schema bronze"
   ]
  },
  {
   "cell_type": "code",
   "execution_count": 0,
   "metadata": {
    "application/vnd.databricks.v1+cell": {
     "cellMetadata": {
      "byteLimit": 2048000,
      "rowLimit": 10000
     },
     "inputWidgets": {},
     "nuid": "db01d0cc-fe46-4088-8ccc-2f457bf4cdbc",
     "showTitle": false,
     "title": ""
    }
   },
   "outputs": [],
   "source": [
    "# Read the CSV file into a DataFrame\n",
    "df_cust = spark.read.csv(\"dbfs:/mnt/ayushi_ecom/customers.csv\", header=True, inferSchema=True)\n",
    "\n",
    "# Show the DataFrame\n",
    "df_cust.show()"
   ]
  },
  {
   "cell_type": "code",
   "execution_count": 0,
   "metadata": {
    "application/vnd.databricks.v1+cell": {
     "cellMetadata": {
      "byteLimit": 2048000,
      "implicitDf": true,
      "rowLimit": 10000
     },
     "inputWidgets": {},
     "nuid": "518a80ee-9059-4fdc-bf4a-c0402928e682",
     "showTitle": false,
     "title": ""
    }
   },
   "outputs": [],
   "source": [
    "%sql\n",
    "--drop table customers;\n",
    "CREATE TABLE customers;\n",
    "COPY INTO customers\n",
    "FROM\n",
    "  \"dbfs:/mnt/ayushi_ecom/customers.csv\" FILEFORMAT = CSV FORMAT_OPTIONS(\n",
    "    \"header\" = \"true\",\n",
    "    \"inferSchema\" = \"true\",\n",
    "    \"mergeSchema\" = \"true\",\n",
    "    \"timestampFormat\" = \"dd-MM-yyyy HH.mm\"\n",
    "  ) COPY_OPTIONS(\"mergeSchema\" = \"true\");\n",
    "select\n",
    "  *\n",
    "from\n",
    "  customers;\n",
    "ALTER TABLE\n",
    "  customers\n",
    "SET\n",
    "  TBLPROPERTIES (delta.enableChangeDataFeed = true);"
   ]
  },
  {
   "cell_type": "code",
   "execution_count": 0,
   "metadata": {
    "application/vnd.databricks.v1+cell": {
     "cellMetadata": {
      "byteLimit": 2048000,
      "implicitDf": true,
      "rowLimit": 10000
     },
     "inputWidgets": {},
     "nuid": "7a31d73d-5279-42f0-8299-bdd33fa463ee",
     "showTitle": false,
     "title": ""
    }
   },
   "outputs": [],
   "source": [
    "%sql\n",
    "drop table orders;\n",
    "CREATE TABLE orders;\n",
    "COPY INTO orders\n",
    "FROM\n",
    "  \"dbfs:/mnt/ayushi_ecom/orders.csv\" FILEFORMAT = CSV FORMAT_OPTIONS(\n",
    "    \"header\" = \"true\",\n",
    "    \"inferSchema\" = \"true\",\n",
    "    \"mergeSchema\" = \"true\",\n",
    "    \"timestampFormat\" = \"dd-MM-yyyy HH.mm\"\n",
    "  ) COPY_OPTIONS(\"mergeSchema\" = \"true\");\n",
    "select\n",
    "  *\n",
    "from\n",
    "  orders;\n",
    "ALTER TABLE\n",
    "  orders\n",
    "SET\n",
    "  TBLPROPERTIES (delta.enableChangeDataFeed = true);"
   ]
  },
  {
   "cell_type": "code",
   "execution_count": 0,
   "metadata": {
    "application/vnd.databricks.v1+cell": {
     "cellMetadata": {
      "byteLimit": 2048000,
      "rowLimit": 10000
     },
     "inputWidgets": {},
     "nuid": "028b9546-bd2a-4bec-bae4-3b7f493893da",
     "showTitle": false,
     "title": ""
    }
   },
   "outputs": [],
   "source": [
    "# Read the CSV file into a DataFrame\n",
    "df_add = spark.read.csv(\"dbfs:/mnt/ayushi_ecom/addresses.csv\", header=True, inferSchema=True)\n",
    "\n",
    "# Show the DataFrame\n",
    "df_add.display()"
   ]
  },
  {
   "cell_type": "code",
   "execution_count": 0,
   "metadata": {
    "application/vnd.databricks.v1+cell": {
     "cellMetadata": {
      "byteLimit": 2048000,
      "rowLimit": 10000
     },
     "inputWidgets": {},
     "nuid": "f9e6cfab-50e4-4a43-8eab-3e5c0b2c5d7e",
     "showTitle": false,
     "title": ""
    }
   },
   "outputs": [],
   "source": [
    "import pandas as pd\n",
    "import csv\n",
    "\n",
    "# Use dbutils to read the CSV file\n",
    "file_path = \"/mnt/ayushi_ecom/addresses.csv\"\n",
    "file_content = dbutils.fs.head(file_path)\n",
    "\n",
    "# Convert the file content to a DataFrame\n",
    "from io import StringIO\n",
    "df_add = pd.read_csv(StringIO(file_content), quoting=csv.QUOTE_ALL)\n",
    "\n",
    "# Show the DataFrame\n",
    "display(df_add)"
   ]
  },
  {
   "cell_type": "code",
   "execution_count": 0,
   "metadata": {
    "application/vnd.databricks.v1+cell": {
     "cellMetadata": {
      "byteLimit": 2048000,
      "implicitDf": true,
      "rowLimit": 10000
     },
     "inputWidgets": {},
     "nuid": "60d04798-39c2-497b-96dc-6d9d561c784c",
     "showTitle": false,
     "title": ""
    }
   },
   "outputs": [],
   "source": [
    "# Convert the pandas DataFrame to a Spark DataFrame\n",
    "spark_df = spark.createDataFrame(df_add)\n",
    "\n",
    "# Write the Spark DataFrame to a Delta table\n",
    "spark_df.write.format(\"delta\").mode(\"overwrite\").saveAsTable(\"addresses\")"
   ]
  },
  {
   "cell_type": "code",
   "execution_count": 0,
   "metadata": {
    "application/vnd.databricks.v1+cell": {
     "cellMetadata": {
      "byteLimit": 2048000,
      "implicitDf": true,
      "rowLimit": 10000
     },
     "inputWidgets": {},
     "nuid": "de60a440-88af-49ac-ada9-d5eacf2882b1",
     "showTitle": false,
     "title": ""
    }
   },
   "outputs": [],
   "source": [
    "%sql\n",
    "select\n",
    "  *\n",
    "from\n",
    "  addresses --drop table addresses"
   ]
  },
  {
   "cell_type": "code",
   "execution_count": 0,
   "metadata": {
    "application/vnd.databricks.v1+cell": {
     "cellMetadata": {
      "byteLimit": 2048000,
      "implicitDf": true,
      "rowLimit": 10000
     },
     "inputWidgets": {},
     "nuid": "1e42fe40-3161-42d9-90d7-6414d59a2e26",
     "showTitle": false,
     "title": ""
    }
   },
   "outputs": [],
   "source": [
    "%sql\n",
    "drop table order_items;\n",
    "CREATE TABLE order_items;\n",
    "COPY INTO order_items\n",
    "FROM\n",
    "  \"dbfs:/mnt/ayushi_ecom/orders_items.csv\" FILEFORMAT = CSV FORMAT_OPTIONS(\n",
    "    \"header\" = \"true\",\n",
    "    \"inferSchema\" = \"true\",\n",
    "    \"mergeSchema\" = \"true\",\n",
    "    \"timestampFormat\" = \"dd-MM-yyyy HH.mm\"\n",
    "  ) COPY_OPTIONS(\"mergeSchema\" = \"true\");\n",
    "SELECT\n",
    "  *\n",
    "FROM\n",
    "  order_items;\n",
    "ALTER TABLE\n",
    "  order_items\n",
    "SET\n",
    "  TBLPROPERTIES (delta.enableChangeDataFeed = true)"
   ]
  },
  {
   "cell_type": "code",
   "execution_count": 0,
   "metadata": {
    "application/vnd.databricks.v1+cell": {
     "cellMetadata": {
      "byteLimit": 2048000,
      "implicitDf": true,
      "rowLimit": 10000
     },
     "inputWidgets": {},
     "nuid": "cce451c1-2999-411b-8eb6-184a45e2d51e",
     "showTitle": false,
     "title": ""
    }
   },
   "outputs": [],
   "source": [
    "%sql\n",
    "drop table payments;\n",
    "CREATE TABLE payments;\n",
    "COPY INTO payments\n",
    "FROM\n",
    "  \"dbfs:/mnt/ayushi_ecom/payments.csv\" FILEFORMAT = CSV FORMAT_OPTIONS(\n",
    "    \"header\" = \"true\",\n",
    "    \"inferSchema\" = \"true\",\n",
    "    \"mergeSchema\" = \"true\",\n",
    "    \"timestampFormat\" = \"dd-MM-yyyy HH.mm\"\n",
    "  ) COPY_OPTIONS(\"mergeSchema\" = \"true\");\n",
    "SELECT\n",
    "  *\n",
    "FROM\n",
    "  payments;\n",
    "ALTER TABLE\n",
    "  payments\n",
    "SET\n",
    "  TBLPROPERTIES (delta.enableChangeDataFeed = true);"
   ]
  },
  {
   "cell_type": "code",
   "execution_count": 0,
   "metadata": {
    "application/vnd.databricks.v1+cell": {
     "cellMetadata": {
      "byteLimit": 2048000,
      "implicitDf": true,
      "rowLimit": 10000
     },
     "inputWidgets": {},
     "nuid": "0374ade1-b1f2-4da2-9864-c282c230dc08",
     "showTitle": false,
     "title": ""
    }
   },
   "outputs": [],
   "source": [
    "%sql\n",
    "--drop table payment_methods;\n",
    "CREATE TABLE payment_methods;\n",
    "COPY INTO payment_methods\n",
    "FROM\n",
    "  \"dbfs:/mnt/ayushi_ecom/payment_methods.csv\" FILEFORMAT = CSV FORMAT_OPTIONS(\n",
    "    \"header\" = \"true\",\n",
    "    \"inferSchema\" = \"true\",\n",
    "    \"mergeSchema\" = \"true\",\n",
    "    \"timestampFormat\" = \"dd-MM-yyyy HH.mm\"\n",
    "  ) COPY_OPTIONS(\"mergeSchema\" = \"true\");\n",
    "SELECT\n",
    "  *\n",
    "FROM\n",
    "  payment_methods;"
   ]
  },
  {
   "cell_type": "code",
   "execution_count": 0,
   "metadata": {
    "application/vnd.databricks.v1+cell": {
     "cellMetadata": {
      "byteLimit": 2048000,
      "implicitDf": true,
      "rowLimit": 10000
     },
     "inputWidgets": {},
     "nuid": "40d11e99-25e3-4f9c-9f6c-985d37e13fdf",
     "showTitle": false,
     "title": ""
    }
   },
   "outputs": [],
   "source": [
    "%sql\n",
    "-- Drop the table if it already exists\n",
    "DROP TABLE IF EXISTS bronze.products;"
   ]
  },
  {
   "cell_type": "code",
   "execution_count": 0,
   "metadata": {
    "application/vnd.databricks.v1+cell": {
     "cellMetadata": {
      "byteLimit": 2048000,
      "rowLimit": 10000
     },
     "inputWidgets": {},
     "nuid": "202c92d0-3a61-49f9-991f-be7df891fb7a",
     "showTitle": false,
     "title": ""
    }
   },
   "outputs": [],
   "source": [
    "# Read the CSV file into a Spark DataFrame\n",
    "file_path = \"/mnt/ayushi_ecom/products_1.csv\"\n",
    "df_prod = spark.read.csv(file_path, header=True, inferSchema=True)\n",
    "\n",
    "# Display the DataFrame\n",
    "display(df_prod)"
   ]
  },
  {
   "cell_type": "code",
   "execution_count": 0,
   "metadata": {
    "application/vnd.databricks.v1+cell": {
     "cellMetadata": {
      "byteLimit": 2048000,
      "rowLimit": 10000
     },
     "inputWidgets": {},
     "nuid": "74076d8a-65ed-4687-bda4-8462f71eb698",
     "showTitle": false,
     "title": ""
    }
   },
   "outputs": [],
   "source": [
    "file_path = \"dbfs:/mnt/ayushi_ecom/products_1.csv\"\n",
    "file_content = dbutils.fs.head(file_path)\n",
    "\n",
    "# Convert the file content to a DataFrame\n",
    "from io import StringIO\n",
    "df_prod = pd.read_csv(StringIO(file_content), quoting=csv.QUOTE_ALL)\n",
    "display(df_prod)"
   ]
  },
  {
   "cell_type": "code",
   "execution_count": 0,
   "metadata": {
    "application/vnd.databricks.v1+cell": {
     "cellMetadata": {
      "byteLimit": 2048000,
      "rowLimit": 10000
     },
     "inputWidgets": {},
     "nuid": "07f8356f-a8c9-4819-bbf1-f28b2e62ed8b",
     "showTitle": false,
     "title": ""
    }
   },
   "outputs": [],
   "source": [
    "import pandas as pd\n",
    "import csv\n",
    "\n",
    "# Read the CSV file into a Spark DataFrame\n",
    "file_path = \"dbfs:/mnt/ayushi_ecom/products_1.csv\"\n",
    "df_spark = spark.read.csv(file_path, header=True, inferSchema=True, quote='\"', escape='\"')\n",
    "\n",
    "# Convert the Spark DataFrame to a Pandas DataFrame\n",
    "df_prod = df_spark.toPandas()\n",
    "\n",
    "# Display the DataFrame\n",
    "display(df_prod)"
   ]
  },
  {
   "cell_type": "code",
   "execution_count": 0,
   "metadata": {
    "application/vnd.databricks.v1+cell": {
     "cellMetadata": {
      "byteLimit": 2048000,
      "rowLimit": 10000
     },
     "inputWidgets": {},
     "nuid": "7e648014-c521-4d52-8094-03e8a1a7a115",
     "showTitle": false,
     "title": ""
    }
   },
   "outputs": [],
   "source": [
    "# Convert the pandas DataFrame to a Spark DataFrame\n",
    "spark_df = spark.createDataFrame(df_prod)\n",
    "\n",
    "# Write the Spark DataFrame to a Delta table\n",
    "spark_df.write.format(\"delta\").mode(\"overwrite\").saveAsTable(\"bronze.products\")"
   ]
  },
  {
   "cell_type": "code",
   "execution_count": 0,
   "metadata": {
    "application/vnd.databricks.v1+cell": {
     "cellMetadata": {
      "byteLimit": 2048000,
      "implicitDf": true,
      "rowLimit": 10000
     },
     "inputWidgets": {},
     "nuid": "e362aa8e-498c-44a1-8498-b200ea5a160a",
     "showTitle": false,
     "title": ""
    }
   },
   "outputs": [],
   "source": [
    "%sql\n",
    "select\n",
    "  *\n",
    "from\n",
    "  bronze.products"
   ]
  },
  {
   "cell_type": "code",
   "execution_count": 0,
   "metadata": {
    "application/vnd.databricks.v1+cell": {
     "cellMetadata": {
      "byteLimit": 2048000,
      "implicitDf": true,
      "rowLimit": 10000
     },
     "inputWidgets": {},
     "nuid": "76e0400d-21f3-466b-9dbe-68a23fb08106",
     "showTitle": false,
     "title": ""
    }
   },
   "outputs": [],
   "source": [
    "%sql\n",
    "drop table returns;\n",
    "CREATE TABLE returns;\n",
    "COPY INTO returns\n",
    "FROM\n",
    "  \"dbfs:/mnt/ayushi_ecom/returns.csv\" FILEFORMAT = CSV FORMAT_OPTIONS(\n",
    "    \"header\" = \"true\",\n",
    "    \"inferSchema\" = \"true\",\n",
    "    \"mergeSchema\" = \"true\",\n",
    "    \"timestampFormat\" = \"dd-MM-yyyy HH.mm\"\n",
    "  ) COPY_OPTIONS(\"mergeSchema\" = \"true\");\n",
    "SELECT\n",
    "  *\n",
    "FROM\n",
    "  returns;"
   ]
  },
  {
   "cell_type": "code",
   "execution_count": 0,
   "metadata": {
    "application/vnd.databricks.v1+cell": {
     "cellMetadata": {
      "byteLimit": 2048000,
      "implicitDf": true,
      "rowLimit": 10000
     },
     "inputWidgets": {},
     "nuid": "1db827c1-88a8-431c-a532-7e3737eb8658",
     "showTitle": false,
     "title": ""
    }
   },
   "outputs": [],
   "source": [
    "%sql\n",
    "drop table shipping_methods;\n",
    "CREATE TABLE shipping_methods;\n",
    "COPY INTO shipping_methods\n",
    "FROM\n",
    "  \"dbfs:/mnt/ayushi_ecom/shipping_methods.csv\" FILEFORMAT = CSV FORMAT_OPTIONS(\n",
    "    \"header\" = \"true\",\n",
    "    \"inferSchema\" = \"true\",\n",
    "    \"mergeSchema\" = \"true\",\n",
    "    \"timestampFormat\" = \"dd-MM-yyyy HH.mm\"\n",
    "  ) COPY_OPTIONS(\"mergeSchema\" = \"true\");;\n",
    "SELECT\n",
    "  *\n",
    "FROM\n",
    "  shipping_methods;"
   ]
  },
  {
   "cell_type": "code",
   "execution_count": 0,
   "metadata": {
    "application/vnd.databricks.v1+cell": {
     "cellMetadata": {
      "byteLimit": 2048000,
      "implicitDf": true,
      "rowLimit": 10000
     },
     "inputWidgets": {},
     "nuid": "28c4fab2-a325-4f15-a443-3bad6bacc85f",
     "showTitle": false,
     "title": ""
    }
   },
   "outputs": [],
   "source": [
    "%sql\n",
    "drop table vendors;\n",
    "CREATE TABLE vendors;\n",
    "COPY INTO vendors\n",
    "FROM\n",
    "  \"dbfs:/mnt/ayushi_ecom/vendors.csv\" FILEFORMAT = CSV FORMAT_OPTIONS(\n",
    "    \"header\" = \"true\",\n",
    "    \"inferSchema\" = \"true\",\n",
    "    \"mergeSchema\" = \"true\",\n",
    "    \"timestampFormat\" = \"dd-MM-yyyy HH.mm\"\n",
    "  ) COPY_OPTIONS(\"mergeSchema\" = \"true\");;\n",
    "SELECT\n",
    "  *\n",
    "FROM\n",
    "  vendors;"
   ]
  }
 ],
 "metadata": {
  "application/vnd.databricks.v1+notebook": {
   "dashboards": [],
   "environmentMetadata": null,
   "language": "python",
   "notebookMetadata": {
    "mostRecentlyExecutedCommandWithImplicitDF": {
     "commandId": 1895079134356940,
     "dataframes": [
      "_sqldf"
     ]
    },
    "pythonIndentUnit": 4
   },
   "notebookName": "Bronze Experiments",
   "widgets": {}
  }
 },
 "nbformat": 4,
 "nbformat_minor": 0
}
