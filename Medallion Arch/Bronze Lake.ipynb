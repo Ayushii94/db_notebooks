{
 "cells": [
  {
   "cell_type": "code",
   "execution_count": 0,
   "metadata": {
    "application/vnd.databricks.v1+cell": {
     "cellMetadata": {},
     "inputWidgets": {},
     "nuid": "aebc4d25-3c2e-46cf-85c6-223f4a8a0921",
     "showTitle": false,
     "title": ""
    }
   },
   "outputs": [],
   "source": [
    "bucket_name = \"msklspace\"\n",
    "mount_name = \"amzns\"\n",
    "dbutils.fs.mount(\n",
    "  f\"gs://{bucket_name}\",\n",
    "  f\"/mnt/databricks/{mount_name}\",\n",
    "  extra_configs = {\"fs.gs.project.id\": \"mentorsko-1700569460412\"}\n",
    ")"
   ]
  },
  {
   "cell_type": "code",
   "execution_count": 0,
   "metadata": {
    "application/vnd.databricks.v1+cell": {
     "cellMetadata": {
      "byteLimit": 2048000,
      "implicitDf": true,
      "rowLimit": 10000
     },
     "inputWidgets": {},
     "nuid": "935ef60c-2018-4a96-9af6-b51a6402a74a",
     "showTitle": false,
     "title": ""
    }
   },
   "outputs": [],
   "source": [
    "%sql\n",
    "create schema bronze;"
   ]
  },
  {
   "cell_type": "code",
   "execution_count": 0,
   "metadata": {
    "application/vnd.databricks.v1+cell": {
     "cellMetadata": {
      "byteLimit": 2048000,
      "rowLimit": 10000
     },
     "inputWidgets": {},
     "nuid": "db01d0cc-fe46-4088-8ccc-2f457bf4cdbc",
     "showTitle": false,
     "title": ""
    }
   },
   "outputs": [],
   "source": [
    "\n",
    "# Read the CSV file into a DataFrame\n",
    "df_cust = spark.read.csv(\"dbfs:/mnt/ayushi_ecom/customers.csv\", header=True, inferSchema=True)\n",
    "\n",
    "# Show the DataFrame\n",
    "df_cust.show()"
   ]
  },
  {
   "cell_type": "code",
   "execution_count": 0,
   "metadata": {
    "application/vnd.databricks.v1+cell": {
     "cellMetadata": {
      "byteLimit": 2048000,
      "implicitDf": true,
      "rowLimit": 10000
     },
     "inputWidgets": {},
     "nuid": "05a26c0d-ab2e-4f39-b900-0330982b87b6",
     "showTitle": false,
     "title": ""
    }
   },
   "outputs": [],
   "source": [
    "%sql\n",
    "USE SCHEMA bronze;"
   ]
  },
  {
   "cell_type": "code",
   "execution_count": 0,
   "metadata": {
    "application/vnd.databricks.v1+cell": {
     "cellMetadata": {
      "byteLimit": 2048000,
      "implicitDf": true,
      "rowLimit": 10000
     },
     "inputWidgets": {},
     "nuid": "518a80ee-9059-4fdc-bf4a-c0402928e682",
     "showTitle": false,
     "title": ""
    }
   },
   "outputs": [],
   "source": [
    "%sql\n",
    "\n",
    "CREATE TABLE customers (\n",
    "    CustomerID VARCHAR(50),\n",
    "    FirstName VARCHAR(100),\n",
    "    LastName VARCHAR(100),\n",
    "    Email VARCHAR(255),\n",
    "    PhoneNumber BIGINT,\n",
    "    DateOfBirth DATE,\n",
    "    RegistrationDate DATE,\n",
    "    PreferredPaymentMethodID VARCHAR(50)\n",
    ")\n",
    "USING DELTA;\n",
    "\n",
    "COPY INTO customers\n",
    "FROM \"dbfs:/mnt/ayushi_ecom/customers.csv\"\n",
    "FILEFORMAT = CSV\n",
    "FORMAT_OPTIONS ('header' = 'true', 'inferSchema' = 'true');\n",
    "\n",
    "select * from customers;"
   ]
  },
  {
   "cell_type": "code",
   "execution_count": 0,
   "metadata": {
    "application/vnd.databricks.v1+cell": {
     "cellMetadata": {
      "byteLimit": 2048000,
      "implicitDf": true,
      "rowLimit": 10000
     },
     "inputWidgets": {},
     "nuid": "7a31d73d-5279-42f0-8299-bdd33fa463ee",
     "showTitle": false,
     "title": ""
    }
   },
   "outputs": [],
   "source": [
    "%sql\n",
    "\n",
    "CREATE TABLE orders (\n",
    "    OrderID VARCHAR(50),\n",
    "    CustomerID VARCHAR(50),\n",
    "    OrderDate TIMESTAMP,\n",
    "    ShippingDate TIMESTAMP,\n",
    "    ExpectedDeliveryDate TIMESTAMP,\n",
    "    ActualDeliveryDate TIMESTAMP,\n",
    "    ShippingMethodID VARCHAR(50),\n",
    "    VendorID VARCHAR(50)\n",
    ")\n",
    "USING DELTA;\n",
    "\n",
    "COPY INTO orders\n",
    "FROM \"dbfs:/mnt/ayushi_ecom/orders.csv\"\n",
    "FILEFORMAT = CSV\n",
    "FORMAT_OPTIONS ('header' = 'true', 'inferSchema' = 'true');\n",
    "\n",
    "select * from orders;"
   ]
  },
  {
   "cell_type": "code",
   "execution_count": 0,
   "metadata": {
    "application/vnd.databricks.v1+cell": {
     "cellMetadata": {
      "byteLimit": 2048000,
      "rowLimit": 10000
     },
     "inputWidgets": {},
     "nuid": "028b9546-bd2a-4bec-bae4-3b7f493893da",
     "showTitle": false,
     "title": ""
    }
   },
   "outputs": [],
   "source": [
    "# Read the CSV file into a DataFrame\n",
    "df_add = spark.read.csv(\"dbfs:/mnt/ayushi_ecom/addresses.csv\", header=True, inferSchema=True)\n",
    "\n",
    "# Show the DataFrame\n",
    "df_add.display()"
   ]
  },
  {
   "cell_type": "code",
   "execution_count": 0,
   "metadata": {
    "application/vnd.databricks.v1+cell": {
     "cellMetadata": {
      "byteLimit": 2048000,
      "rowLimit": 10000
     },
     "inputWidgets": {},
     "nuid": "d57bc699-48a8-4af8-ad47-719ad01b653f",
     "showTitle": false,
     "title": ""
    }
   },
   "outputs": [],
   "source": [
    "import pandas as pd\n",
    "import re\n",
    "\n",
    "# Read the file using dbutils\n",
    "file_path = \"/mnt/ayushi_ecom/addresses.csv\"\n",
    "lines = dbutils.fs.head(file_path).split(\"\\n\")\n",
    "\n",
    "# Initialize a list to hold the processed data\n",
    "data = []\n",
    "\n",
    "# Process each line\n",
    "for line in lines:\n",
    "    # Remove any extra whitespace\n",
    "    line = line.strip()\n",
    "    # Use regex to split only on commas that are not within quotes\n",
    "    fields = re.split(r',(?=(?:[^\"]*\"[^\"]*\")*[^\"]*$)', line)\n",
    "    data.append(fields)\n",
    "\n",
    "# Convert the processed data to a DataFrame\n",
    "addresses_df = pd.DataFrame(data[1:], columns=data[0])\n",
    "\n",
    "# Display the first few rows of the DataFrame\n",
    "display(addresses_df)"
   ]
  },
  {
   "cell_type": "code",
   "execution_count": 0,
   "metadata": {
    "application/vnd.databricks.v1+cell": {
     "cellMetadata": {
      "byteLimit": 2048000,
      "rowLimit": 10000
     },
     "inputWidgets": {},
     "nuid": "f9e6cfab-50e4-4a43-8eab-3e5c0b2c5d7e",
     "showTitle": false,
     "title": ""
    }
   },
   "outputs": [],
   "source": [
    "import pandas as pd\n",
    "import csv\n",
    "\n",
    "# Use dbutils to read the CSV file\n",
    "file_path = \"/mnt/ayushi_ecom/addresses.csv\"\n",
    "file_content = dbutils.fs.head(file_path)\n",
    "\n",
    "# Convert the file content to a DataFrame\n",
    "from io import StringIO\n",
    "df_add = pd.read_csv(StringIO(file_content), quoting=csv.QUOTE_ALL)\n",
    "\n",
    "# Show the DataFrame\n",
    "display(df_add)"
   ]
  },
  {
   "cell_type": "code",
   "execution_count": 0,
   "metadata": {
    "application/vnd.databricks.v1+cell": {
     "cellMetadata": {
      "byteLimit": 2048000,
      "implicitDf": true,
      "rowLimit": 10000
     },
     "inputWidgets": {},
     "nuid": "60d04798-39c2-497b-96dc-6d9d561c784c",
     "showTitle": false,
     "title": ""
    }
   },
   "outputs": [],
   "source": [
    "# Convert the pandas DataFrame to a Spark DataFrame\n",
    "spark_df = spark.createDataFrame(df_add)\n",
    "\n",
    "# Write the Spark DataFrame to a Delta table\n",
    "spark_df.write.format(\"delta\").mode(\"overwrite\").saveAsTable(\"addresses\")"
   ]
  },
  {
   "cell_type": "code",
   "execution_count": 0,
   "metadata": {
    "application/vnd.databricks.v1+cell": {
     "cellMetadata": {
      "byteLimit": 2048000,
      "implicitDf": true,
      "rowLimit": 10000
     },
     "inputWidgets": {},
     "nuid": "de60a440-88af-49ac-ada9-d5eacf2882b1",
     "showTitle": false,
     "title": ""
    }
   },
   "outputs": [],
   "source": [
    "%sql\n",
    "select * from addresses\n",
    "--drop table addresses"
   ]
  },
  {
   "cell_type": "code",
   "execution_count": 0,
   "metadata": {
    "application/vnd.databricks.v1+cell": {
     "cellMetadata": {
      "byteLimit": 2048000,
      "implicitDf": true,
      "rowLimit": 10000
     },
     "inputWidgets": {},
     "nuid": "1e42fe40-3161-42d9-90d7-6414d59a2e26",
     "showTitle": false,
     "title": ""
    }
   },
   "outputs": [],
   "source": [
    "%sql\n",
    "CREATE TABLE order_items (\n",
    "    OrderItemID VARCHAR(50),\n",
    "    OrderID VARCHAR(50),\n",
    "    ProductID VARCHAR(50),\n",
    "    Quantity INT\n",
    ")\n",
    "USING DELTA;\n",
    "\n",
    "COPY INTO order_items\n",
    "FROM \"dbfs:/mnt/ayushi_ecom/orders_items.csv\"\n",
    "FILEFORMAT = CSV\n",
    "FORMAT_OPTIONS ('header' = 'true', 'inferSchema' = 'true');\n",
    "\n",
    "SELECT * FROM order_items;"
   ]
  },
  {
   "cell_type": "code",
   "execution_count": 0,
   "metadata": {
    "application/vnd.databricks.v1+cell": {
     "cellMetadata": {
      "byteLimit": 2048000,
      "implicitDf": true,
      "rowLimit": 10000
     },
     "inputWidgets": {},
     "nuid": "cce451c1-2999-411b-8eb6-184a45e2d51e",
     "showTitle": false,
     "title": ""
    }
   },
   "outputs": [],
   "source": [
    "%sql\n",
    "\n",
    "CREATE TABLE payments (\n",
    "    PaymentID VARCHAR(50),\n",
    "    OrderID VARCHAR(50),\n",
    "    PaymentDate TIMESTAMP,\n",
    "    GiftCardUsage VARCHAR(3),\n",
    "    GiftCardAmount DOUBLE,\n",
    "    CouponUsage VARCHAR(3),\n",
    "    CouponAmount DOUBLE,\n",
    "    PaymentMethodID VARCHAR(50)\n",
    ")\n",
    "USING DELTA;\n",
    "\n",
    "\n",
    "COPY INTO payments\n",
    "FROM \"dbfs:/mnt/ayushi_ecom/payments.csv\"\n",
    "FILEFORMAT = CSV\n",
    "FORMAT_OPTIONS ('header' = 'true', 'inferSchema' = 'true');\n",
    "\n",
    "SELECT * FROM payments;"
   ]
  },
  {
   "cell_type": "code",
   "execution_count": 0,
   "metadata": {
    "application/vnd.databricks.v1+cell": {
     "cellMetadata": {
      "byteLimit": 2048000,
      "implicitDf": true,
      "rowLimit": 10000
     },
     "inputWidgets": {},
     "nuid": "0374ade1-b1f2-4da2-9864-c282c230dc08",
     "showTitle": false,
     "title": ""
    }
   },
   "outputs": [],
   "source": [
    "%sql\n",
    "CREATE TABLE payment_methods (\n",
    "    PaymentMethodID VARCHAR(50),\n",
    "    MethodName VARCHAR(255)\n",
    ")\n",
    "USING DELTA;\n",
    "\n",
    "COPY INTO payment_methods\n",
    "FROM \"dbfs:/mnt/ayushi_ecom/payment_methods.csv\"\n",
    "FILEFORMAT = CSV\n",
    "FORMAT_OPTIONS ('header' = 'true', 'inferSchema' = 'true');\n",
    "\n",
    "SELECT * FROM payment_methods;"
   ]
  },
  {
   "cell_type": "code",
   "execution_count": 0,
   "metadata": {
    "application/vnd.databricks.v1+cell": {
     "cellMetadata": {
      "byteLimit": 2048000,
      "implicitDf": true,
      "rowLimit": 10000
     },
     "inputWidgets": {},
     "nuid": "40d11e99-25e3-4f9c-9f6c-985d37e13fdf",
     "showTitle": false,
     "title": ""
    }
   },
   "outputs": [],
   "source": [
    "%sql\n",
    "-- Drop the table if it already exists\n",
    "DROP TABLE IF EXISTS products;\n"
   ]
  },
  {
   "cell_type": "code",
   "execution_count": 0,
   "metadata": {
    "application/vnd.databricks.v1+cell": {
     "cellMetadata": {
      "byteLimit": 2048000,
      "rowLimit": 10000
     },
     "inputWidgets": {},
     "nuid": "74076d8a-65ed-4687-bda4-8462f71eb698",
     "showTitle": false,
     "title": ""
    }
   },
   "outputs": [],
   "source": [
    "file_path = \"dbfs:/mnt/ayushi_ecom/products_1.csv\"\n",
    "file_content = dbutils.fs.head(file_path)\n",
    "\n",
    "# Convert the file content to a DataFrame\n",
    "from io import StringIO\n",
    "df_add = pd.read_csv(StringIO(file_content), quoting=csv.QUOTE_ALL)\n",
    "display(df_add)"
   ]
  },
  {
   "cell_type": "code",
   "execution_count": 0,
   "metadata": {
    "application/vnd.databricks.v1+cell": {
     "cellMetadata": {
      "byteLimit": 2048000,
      "rowLimit": 10000
     },
     "inputWidgets": {},
     "nuid": "7e648014-c521-4d52-8094-03e8a1a7a115",
     "showTitle": false,
     "title": ""
    }
   },
   "outputs": [],
   "source": [
    "# Convert the pandas DataFrame to a Spark DataFrame\n",
    "spark_df = spark.createDataFrame(df_add)\n",
    "\n",
    "# Write the Spark DataFrame to a Delta table\n",
    "spark_df.write.format(\"delta\").mode(\"overwrite\").saveAsTable(\"products\")"
   ]
  },
  {
   "cell_type": "code",
   "execution_count": 0,
   "metadata": {
    "application/vnd.databricks.v1+cell": {
     "cellMetadata": {
      "byteLimit": 2048000,
      "implicitDf": true,
      "rowLimit": 10000
     },
     "inputWidgets": {},
     "nuid": "e362aa8e-498c-44a1-8498-b200ea5a160a",
     "showTitle": false,
     "title": ""
    }
   },
   "outputs": [],
   "source": [
    "%sql\n",
    "select * from products"
   ]
  },
  {
   "cell_type": "code",
   "execution_count": 0,
   "metadata": {
    "application/vnd.databricks.v1+cell": {
     "cellMetadata": {
      "byteLimit": 2048000,
      "implicitDf": true,
      "rowLimit": 10000
     },
     "inputWidgets": {},
     "nuid": "76e0400d-21f3-466b-9dbe-68a23fb08106",
     "showTitle": false,
     "title": ""
    }
   },
   "outputs": [],
   "source": [
    "%sql\n",
    "CREATE TABLE returns (\n",
    "    OrderId VARCHAR(255),\n",
    "    Return_reason VARCHAR(255)\n",
    ")\n",
    "USING DELTA;\n",
    "\n",
    "COPY INTO returns\n",
    "FROM \"dbfs:/mnt/ayushi_ecom/returns.csv\"\n",
    "FILEFORMAT = CSV\n",
    "FORMAT_OPTIONS ('header' = 'true', 'inferSchema' = 'true');\n",
    "\n",
    "SELECT * FROM returns;"
   ]
  },
  {
   "cell_type": "code",
   "execution_count": 0,
   "metadata": {
    "application/vnd.databricks.v1+cell": {
     "cellMetadata": {
      "byteLimit": 2048000,
      "implicitDf": true,
      "rowLimit": 10000
     },
     "inputWidgets": {},
     "nuid": "1db827c1-88a8-431c-a532-7e3737eb8658",
     "showTitle": false,
     "title": ""
    }
   },
   "outputs": [],
   "source": [
    "%sql\n",
    "\n",
    "CREATE TABLE shipping_methods (\n",
    "    ShippingMethodID VARCHAR(50),\n",
    "    MethodName VARCHAR(255),\n",
    "    Cost_Rs int\n",
    ")\n",
    "USING DELTA;\n",
    "\n",
    "COPY INTO shipping_methods \n",
    "FROM \"dbfs:/mnt/ayushi_ecom/shipping_methods.csv\"\n",
    "FILEFORMAT = CSV\n",
    "FORMAT_OPTIONS ('header' = 'true', 'inferSchema' = 'true');\n",
    "\n",
    "SELECT * FROM shipping_methods;"
   ]
  },
  {
   "cell_type": "code",
   "execution_count": 0,
   "metadata": {
    "application/vnd.databricks.v1+cell": {
     "cellMetadata": {
      "byteLimit": 2048000,
      "implicitDf": true,
      "rowLimit": 10000
     },
     "inputWidgets": {},
     "nuid": "28c4fab2-a325-4f15-a443-3bad6bacc85f",
     "showTitle": false,
     "title": ""
    }
   },
   "outputs": [],
   "source": [
    "%sql\n",
    "CREATE TABLE vendors (\n",
    "    VendorID VARCHAR(50),\n",
    "    VendorName VARCHAR(255)\n",
    ")\n",
    "USING DELTA;\n",
    "\n",
    "COPY INTO vendors\n",
    "FROM \"dbfs:/mnt/ayushi_ecom/vendors.csv\"\n",
    "FILEFORMAT = CSV\n",
    "FORMAT_OPTIONS ('header' = 'true', 'inferSchema' = 'true');\n",
    "\n",
    "SELECT * FROM vendors ;"
   ]
  }
 ],
 "metadata": {
  "application/vnd.databricks.v1+notebook": {
   "dashboards": [],
   "environmentMetadata": null,
   "language": "python",
   "notebookMetadata": {
    "mostRecentlyExecutedCommandWithImplicitDF": {
     "commandId": 1895079134356940,
     "dataframes": [
      "_sqldf"
     ]
    },
    "pythonIndentUnit": 4
   },
   "notebookName": "Bronze Lake",
   "widgets": {}
  }
 },
 "nbformat": 4,
 "nbformat_minor": 0
}
