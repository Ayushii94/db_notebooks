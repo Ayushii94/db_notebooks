{
 "cells": [
  {
   "cell_type": "code",
   "execution_count": 0,
   "metadata": {
    "application/vnd.databricks.v1+cell": {
     "cellMetadata": {
      "byteLimit": 2048000,
      "implicitDf": true,
      "rowLimit": 10000
     },
     "inputWidgets": {},
     "nuid": "369ef4db-09a9-4416-9fc4-29273fe7a691",
     "showTitle": false,
     "title": ""
    }
   },
   "outputs": [],
   "source": [
    "%sql\n",
    "create schema gold"
   ]
  },
  {
   "cell_type": "code",
   "execution_count": 0,
   "metadata": {
    "application/vnd.databricks.v1+cell": {
     "cellMetadata": {
      "byteLimit": 2048000,
      "implicitDf": true,
      "rowLimit": 10000
     },
     "inputWidgets": {},
     "nuid": "ee866fb3-7a3f-40d1-8e3e-bc9df296f3d5",
     "showTitle": false,
     "title": ""
    }
   },
   "outputs": [],
   "source": [
    "%sql\n",
    "use schema silver"
   ]
  },
  {
   "cell_type": "code",
   "execution_count": 0,
   "metadata": {
    "application/vnd.databricks.v1+cell": {
     "cellMetadata": {
      "byteLimit": 2048000,
      "rowLimit": 10000
     },
     "inputWidgets": {},
     "nuid": "b5cbcdfc-7712-48d5-967f-c64ad7d9e6a7",
     "showTitle": false,
     "title": ""
    }
   },
   "outputs": [],
   "source": [
    "customer_analysis.write.format(\"delta\").mode(\"overwrite\").saveAsTable(\"gold.customer_analysis\")"
   ]
  },
  {
   "cell_type": "code",
   "execution_count": 0,
   "metadata": {
    "application/vnd.databricks.v1+cell": {
     "cellMetadata": {
      "byteLimit": 2048000,
      "implicitDf": true,
      "rowLimit": 10000
     },
     "inputWidgets": {},
     "nuid": "fc09706f-a0e5-4241-bd8a-9bae91c18910",
     "showTitle": false,
     "title": ""
    }
   },
   "outputs": [],
   "source": [
    "%sql\n",
    "WITH VendorOrderTotals AS (\n",
    "    SELECT\n",
    "        o.VendorID,\n",
    "        COUNT(DISTINCT o.OrderID) AS NumOrders,\n",
    "        SUM(oi.Quantity) AS TotalItems,\n",
    "        MIN(o.OrderDate) AS FirstOrderDate,\n",
    "        MAX(o.OrderDate) AS LastOrderDate\n",
    "    FROM\n",
    "        Orders o\n",
    "        JOIN Order_Items oi ON o.OrderID = oi.OrderID\n",
    "    GROUP BY\n",
    "        o.VendorID\n",
    "),\n",
    "VendorAnalysis AS (\n",
    "    SELECT\n",
    "        vot.VendorID,\n",
    "        v.VendorName,\n",
    "        vot.NumOrders,\n",
    "        vot.TotalItems / vot.NumOrders AS AvgItemsPerOrder,\n",
    "        DATEDIFF(vot.LastOrderDate, vot.FirstOrderDate) / NULLIF(vot.NumOrders - 1, 0) AS OrderFrequency\n",
    "    FROM\n",
    "        VendorOrderTotals vot\n",
    "        JOIN Vendors v ON vot.VendorID = v.VendorID\n",
    ")\n",
    "SELECT\n",
    "    VendorID,\n",
    "    VendorName,\n",
    "    NumOrders,\n",
    "    AvgItemsPerOrder,\n",
    "    OrderFrequency\n",
    "FROM\n",
    "    VendorAnalysis\n",
    "ORDER BY\n",
    "    NumOrders DESC;"
   ]
  },
  {
   "cell_type": "code",
   "execution_count": 0,
   "metadata": {
    "application/vnd.databricks.v1+cell": {
     "cellMetadata": {
      "byteLimit": 2048000,
      "implicitDf": true,
      "rowLimit": 10000
     },
     "inputWidgets": {},
     "nuid": "d7699ed6-2ec2-43f8-ac1a-c72f17b68991",
     "showTitle": false,
     "title": ""
    }
   },
   "outputs": [],
   "source": [
    "%sql\n",
    "WITH OrderTotals AS (\n",
    "    SELECT\n",
    "        o.CustomerID,\n",
    "        COUNT(DISTINCT(o.OrderID)) AS NumOrders,\n",
    "        SUM(oi.Quantity) AS BasketSize,\n",
    "        MIN(o.OrderDate) AS FirstOrderDate,\n",
    "        MAX(o.OrderDate) AS LastOrderDate,\n",
    "        SUM(oi.Quantity * p.Discounted_Price) AS TotalPurchaseValue -- Calculate the total purchase value\n",
    "    FROM\n",
    "        orders o\n",
    "        JOIN order_items oi ON o.OrderID = oi.OrderID\n",
    "        JOIN products p ON oi.ProductID = p.Product_ID\n",
    "    GROUP BY\n",
    "        o.CustomerID\n",
    "),\n",
    "CustomerAnalysis AS (\n",
    "    SELECT\n",
    "        ot.CustomerID,\n",
    "        c.Email,\n",
    "        ot.NumOrders,\n",
    "        ROUND(ot.BasketSize / ot.NumOrders, 0) AS AvgBasketSize,\n",
    "        ROUND(DATEDIFF(ot.LastOrderDate, ot.FirstOrderDate) / NULLIF(ot.NumOrders - 1, 0), 0) AS PurchaseFrequency,\n",
    "        ot.TotalPurchaseValue, -- Include total purchase value\n",
    "        ROUND(ot.TotalPurchaseValue / ot.NumOrders, 2) AS AvgBasketValue -- Calculate average basket value\n",
    "    FROM\n",
    "        OrderTotals ot\n",
    "        JOIN customers c ON ot.CustomerID = c.CustomerID\n",
    ")\n",
    "SELECT\n",
    "    CustomerID,\n",
    "    Email,\n",
    "    NumOrders,\n",
    "    AvgBasketSize,\n",
    "    PurchaseFrequency,\n",
    "    TotalPurchaseValue,\n",
    "    AvgBasketValue\n",
    "FROM\n",
    "    CustomerAnalysis\n",
    "ORDER BY\n",
    "    NumOrders DESC;\n"
   ]
  },
  {
   "cell_type": "code",
   "execution_count": 0,
   "metadata": {
    "application/vnd.databricks.v1+cell": {
     "cellMetadata": {
      "byteLimit": 2048000,
      "rowLimit": 10000
     },
     "inputWidgets": {},
     "nuid": "e28d3368-7bb9-4d63-9390-2e63de817eb3",
     "showTitle": false,
     "title": ""
    }
   },
   "outputs": [],
   "source": [
    "from pyspark.sql.functions import col, countDistinct, sum, min, max, datediff, round\n",
    "\n",
    "# Load data\n",
    "orders = spark.table(\"orders\")\n",
    "order_items = spark.table(\"order_items\")\n",
    "customers = spark.table(\"customers\")\n",
    "products = spark.table(\"products\")\n",
    "\n",
    "# Compute Order Totals\n",
    "order_totals = orders.join(order_items, orders.OrderID == order_items.OrderID) \\\n",
    "    .join(products, order_items.ProductID == products.Product_ID) \\\n",
    "    .groupBy(\"CustomerID\") \\\n",
    "    .agg(\n",
    "        countDistinct(\"orders.OrderID\").alias(\"NumOrders\"),\n",
    "        sum(\"order_items.Quantity\").alias(\"BasketSize\"),\n",
    "        min(\"orders.OrderDate\").alias(\"FirstOrderDate\"),\n",
    "        max(\"orders.OrderDate\").alias(\"LastOrderDate\"),\n",
    "        sum(order_items.Quantity * products.Discounted_Price).alias(\"TotalPurchaseValue\")\n",
    "    )\n",
    "\n",
    "# Compute Customer Analysis\n",
    "customer_analysis = order_totals.join(customers, \"CustomerID\") \\\n",
    "    .select(\n",
    "        col(\"CustomerID\"),\n",
    "        col(\"Email\"),\n",
    "        col(\"NumOrders\"),\n",
    "        round(col(\"BasketSize\") / col(\"NumOrders\"), 0).alias(\"AvgBasketSize\"),\n",
    "        round(datediff(col(\"LastOrderDate\"), col(\"FirstOrderDate\")) / (col(\"NumOrders\") - 1), 0).alias(\"PurchaseFrequency\"),\n",
    "        col(\"TotalPurchaseValue\"),\n",
    "        round(col(\"TotalPurchaseValue\") / col(\"NumOrders\"), 2).alias(\"AvgBasketValue\")\n",
    "    )\n",
    "\n",
    "# Sort and display results\n",
    "display(customer_analysis.orderBy(col(\"NumOrders\").desc()))"
   ]
  },
  {
   "cell_type": "code",
   "execution_count": 0,
   "metadata": {
    "application/vnd.databricks.v1+cell": {
     "cellMetadata": {},
     "inputWidgets": {},
     "nuid": "7fb74a53-95a4-4411-8f11-025535418d75",
     "showTitle": false,
     "title": ""
    }
   },
   "outputs": [],
   "source": [
    "customer_analysis.write.format(\"delta\").mode(\"overwrite\").saveAsTable(\"gold.customer_analysis\")"
   ]
  },
  {
   "cell_type": "code",
   "execution_count": 0,
   "metadata": {
    "application/vnd.databricks.v1+cell": {
     "cellMetadata": {
      "byteLimit": 2048000,
      "implicitDf": true,
      "rowLimit": 10000
     },
     "inputWidgets": {},
     "nuid": "9ca85340-c03d-4724-9da3-698872751c2d",
     "showTitle": false,
     "title": ""
    }
   },
   "outputs": [],
   "source": [
    "%sql\n",
    "WITH CityStateTotals AS (\n",
    "    SELECT\n",
    "        a.State,\n",
    "        a.City,\n",
    "        COUNT(DISTINCT o.CustomerID) AS TotalCustomers,\n",
    "        COUNT(DISTINCT o.OrderID) AS TotalOrders,\n",
    "        COUNT(oi.ProductID) AS TotalProductsSold,\n",
    "        SUM(CASE WHEN r.OrderID IS NOT NULL THEN oi.Quantity ELSE 0 END) AS TotalProductsReturned,\n",
    "        COUNT(DISTINCT r.OrderID) * 100.0 / COUNT(DISTINCT o.OrderID) AS ReturnRate,\n",
    "        SUM(oi.Quantity * p.Discounted_Price) AS TotalRevenue,\n",
    "        AVG(DATEDIFF(o.ActualDeliveryDate, o.ShippingDate)) AS AvgDeliveryTime\n",
    "    FROM\n",
    "        orders o\n",
    "        JOIN order_items oi ON o.OrderID = oi.OrderID\n",
    "        LEFT JOIN returns r ON o.OrderID = r.OrderID\n",
    "        JOIN products p ON oi.ProductID = p.Product_ID\n",
    "        JOIN addresses a ON o.CustomerID = a.CustomerID\n",
    "    GROUP BY\n",
    "        a.State, a.City\n",
    "),\n",
    "TopVendorByCityState AS (\n",
    "    SELECT\n",
    "        a.State,\n",
    "        a.City,\n",
    "        v.VendorName,\n",
    "        SUM(oi.Quantity * p.Discounted_Price) AS VendorRevenue,\n",
    "        RANK() OVER (PARTITION BY a.State, a.City ORDER BY SUM(oi.Quantity * p.Discounted_Price) DESC) AS Rank\n",
    "    FROM\n",
    "        orders o\n",
    "        JOIN order_items oi ON o.OrderID = oi.OrderID\n",
    "        JOIN products p ON oi.ProductID = p.Product_ID\n",
    "        JOIN vendors v ON o.VendorID = v.VendorID\n",
    "        JOIN addresses a ON o.CustomerID = a.CustomerID\n",
    "    GROUP BY\n",
    "        a.State, a.City, v.VendorName\n",
    ")\n",
    "SELECT\n",
    "    cst.State,\n",
    "    cst.City,\n",
    "    cst.TotalCustomers,\n",
    "    cst.TotalOrders,\n",
    "    cst.TotalProductsSold AS TotalProductsSold,\n",
    "    cst.TotalProductsReturned,\n",
    "    ROUND(cst.ReturnRate, 2) AS ReturnRate,\n",
    "    cst.TotalRevenue,\n",
    "    tvb.VendorName AS TopVendorByRevenue,\n",
    "    ROUND(cst.AvgDeliveryTime, 2) AS AvgDeliveryTime\n",
    "FROM\n",
    "    CityStateTotals cst\n",
    "    LEFT JOIN TopVendorByCityState tvb ON cst.State = tvb.State AND cst.City = tvb.City AND tvb.Rank = 1\n",
    "ORDER BY\n",
    "    cst.State, cst.City;\n"
   ]
  },
  {
   "cell_type": "code",
   "execution_count": 0,
   "metadata": {
    "application/vnd.databricks.v1+cell": {
     "cellMetadata": {
      "byteLimit": 2048000,
      "rowLimit": 10000
     },
     "inputWidgets": {},
     "nuid": "c834a3fe-c87b-4405-982a-58d9e661d630",
     "showTitle": false,
     "title": ""
    }
   },
   "outputs": [],
   "source": [
    "\n",
    "from pyspark.sql import functions as F\n",
    "from pyspark.sql.window import Window\n",
    "\n",
    "# Load tables\n",
    "orders = spark.table(\"orders\")\n",
    "order_items = spark.table(\"order_items\")\n",
    "returns = spark.table(\"returns\")\n",
    "products = spark.table(\"products\")\n",
    "addresses = spark.table(\"addresses\")\n",
    "vendors = spark.table(\"vendors\")\n",
    "\n",
    "# Compute CityStateTotals\n",
    "city_state_totals = (\n",
    "    orders\n",
    "    .join(order_items, \"OrderID\")\n",
    "    .join(products, order_items[\"ProductID\"] == products[\"Product_ID\"])\n",
    "    .join(addresses, \"CustomerID\")\n",
    "    .join(returns, \"OrderID\", \"left\")\n",
    "    .groupBy(\"State\", \"City\")\n",
    "    .agg(\n",
    "        F.countDistinct(\"orders.CustomerID\").alias(\"TotalCustomers\"),\n",
    "        F.countDistinct(\"orders.OrderID\").alias(\"TotalOrders\"),\n",
    "        F.count(\"order_items.ProductID\").alias(\"TotalProductsSold\"),\n",
    "        F.sum(F.when(returns[\"OrderID\"].isNotNull(), order_items[\"Quantity\"]).otherwise(0)).alias(\"TotalProductsReturned\"),\n",
    "        (F.countDistinct(\"returns.OrderID\") * 100.0 / F.countDistinct(\"orders.OrderID\")).alias(\"ReturnRate\"),\n",
    "        F.sum(order_items[\"Quantity\"] * products[\"Discounted_Price\"]).alias(\"TotalRevenue\"),\n",
    "        F.avg(F.datediff(\"orders.ActualDeliveryDate\", \"orders.ShippingDate\")).alias(\"AvgDeliveryTime\")\n",
    "    )\n",
    ")\n",
    "\n",
    "# Compute TopVendorByCityState\n",
    "window_spec = Window.partitionBy(\"State\", \"City\").orderBy(F.col(\"VendorRevenue\").desc())\n",
    "top_vendor_by_city_state = (\n",
    "    orders\n",
    "    .join(order_items, \"OrderID\")\n",
    "    .join(products, order_items[\"ProductID\"] == products[\"Product_ID\"])\n",
    "    .join(vendors, \"VendorID\")\n",
    "    .join(addresses, \"CustomerID\")\n",
    "    .groupBy(\"State\", \"City\", \"VendorName\")\n",
    "    .agg(F.sum(order_items[\"Quantity\"] * products[\"Discounted_Price\"]).alias(\"VendorRevenue\"))\n",
    "    .withColumn(\"Rank\", F.rank().over(window_spec))\n",
    "    .filter(F.col(\"Rank\") == 1)\n",
    ")\n",
    "\n",
    "# Join results\n",
    "final_result = (\n",
    "    city_state_totals\n",
    "    .join(top_vendor_by_city_state, [\"State\", \"City\"], \"left\")\n",
    "    .select(\n",
    "        \"State\",\n",
    "        \"City\",\n",
    "        \"TotalCustomers\",\n",
    "        \"TotalOrders\",\n",
    "        \"TotalProductsSold\",\n",
    "        \"TotalProductsReturned\",\n",
    "        F.round(\"ReturnRate\", 2).alias(\"ReturnRate\"),\n",
    "        \"TotalRevenue\",\n",
    "        F.col(\"VendorName\").alias(\"TopVendorByRevenue\"),\n",
    "        F.round(\"AvgDeliveryTime\", 2).alias(\"AvgDeliveryTime\")\n",
    "    )\n",
    "    .orderBy(\"State\", \"City\")\n",
    ")\n",
    "\n",
    "# Display the final result\n",
    "display(final_result)\n",
    "\n",
    "# Save as Delta table\n",
    "final_result.write.format(\"delta\").mode(\"overwrite\").saveAsTable(\"gold.Regional_analysis\")"
   ]
  },
  {
   "cell_type": "code",
   "execution_count": 0,
   "metadata": {
    "application/vnd.databricks.v1+cell": {
     "cellMetadata": {
      "byteLimit": 2048000,
      "implicitDf": true,
      "rowLimit": 10000
     },
     "inputWidgets": {},
     "nuid": "d8159d5c-5c96-4cab-b4de-8fbf8dd2c961",
     "showTitle": false,
     "title": ""
    }
   },
   "outputs": [],
   "source": [
    "%sql\n",
    "select * from gold.Regional_analysis"
   ]
  },
  {
   "cell_type": "code",
   "execution_count": 0,
   "metadata": {
    "application/vnd.databricks.v1+cell": {
     "cellMetadata": {
      "byteLimit": 2048000,
      "implicitDf": true,
      "rowLimit": 10000
     },
     "inputWidgets": {},
     "nuid": "901aa44b-fb55-4570-98f0-e782eb94b58e",
     "showTitle": false,
     "title": ""
    }
   },
   "outputs": [],
   "source": [
    "%sql\n",
    "WITH PaymentTotals AS (\n",
    "    SELECT\n",
    "        pm.PaymentMethodID,\n",
    "        pm.MethodName,\n",
    "        COUNT(DISTINCT p.OrderID) AS TotalOrdersPaid,\n",
    "        SUM(p.CouponAmount + p.GiftCardAmount) AS TotalPaymentAmount,\n",
    "        SUM(p.CouponAmount) AS TotalCouponAmount,\n",
    "        SUM(p.GiftCardAmount) AS TotalGiftCardAmount\n",
    "    FROM\n",
    "        payment_methods pm\n",
    "        JOIN payments p ON pm.PaymentMethodID = p.PaymentMethodID\n",
    "    GROUP BY\n",
    "        pm.PaymentMethodID, pm.MethodName\n",
    "),\n",
    "CouponUsage AS (\n",
    "    SELECT\n",
    "        pm.PaymentMethodID,\n",
    "        COUNT(CASE WHEN p.CouponUsage = 'Yes' THEN 1 ELSE NULL END) AS TotalCouponUsage\n",
    "    FROM\n",
    "        payment_methods pm\n",
    "        JOIN payments p ON pm.PaymentMethodID = p.PaymentMethodID\n",
    "    GROUP BY\n",
    "        pm.PaymentMethodID\n",
    "),\n",
    "GiftCardUsage AS (\n",
    "    SELECT\n",
    "        pm.PaymentMethodID,\n",
    "        COUNT(CASE WHEN p.GiftCardUsage = 'Yes' THEN 1 ELSE NULL END) AS TotalGiftCardUsage\n",
    "    FROM\n",
    "        payment_methods pm\n",
    "        JOIN payments p ON pm.PaymentMethodID = p.PaymentMethodID\n",
    "    GROUP BY\n",
    "        pm.PaymentMethodID\n",
    "),\n",
    "PaymentAnalysis AS (\n",
    "    SELECT\n",
    "        pt.PaymentMethodID,\n",
    "        pt.MethodName,\n",
    "        pt.TotalOrdersPaid,\n",
    "        pt.TotalPaymentAmount,\n",
    "        pt.TotalCouponAmount,\n",
    "        pt.TotalGiftCardAmount,\n",
    "        cu.TotalCouponUsage,\n",
    "        gcu.TotalGiftCardUsage\n",
    "    FROM\n",
    "        PaymentTotals pt\n",
    "        LEFT JOIN CouponUsage cu ON pt.PaymentMethodID = cu.PaymentMethodID\n",
    "        LEFT JOIN GiftCardUsage gcu ON pt.PaymentMethodID = gcu.PaymentMethodID\n",
    ")\n",
    "SELECT\n",
    "    PaymentMethodID,\n",
    "    MethodName,\n",
    "    TotalOrdersPaid,\n",
    "    TotalPaymentAmount,\n",
    "    COALESCE(TotalCouponUsage, 0) AS TotalCouponUsed,\n",
    "    TotalCouponAmount,\n",
    "    COALESCE(TotalGiftCardUsage, 0) AS TotalGiftCardUsed,\n",
    "    TotalGiftCardAmount\n",
    "FROM\n",
    "    PaymentAnalysis\n",
    "ORDER BY\n",
    "    TotalOrdersPaid DESC;\n"
   ]
  },
  {
   "cell_type": "code",
   "execution_count": 0,
   "metadata": {
    "application/vnd.databricks.v1+cell": {
     "cellMetadata": {
      "byteLimit": 2048000,
      "rowLimit": 10000
     },
     "inputWidgets": {},
     "nuid": "082f2894-5cd1-46e1-9c01-96531f45cd97",
     "showTitle": false,
     "title": ""
    }
   },
   "outputs": [],
   "source": [
    "# Load tables\n",
    "payment_methods = spark.table(\"payment_methods\")\n",
    "payments = spark.table(\"payments\")\n",
    "\n",
    "# Compute PaymentTotals\n",
    "payment_totals = (\n",
    "    payment_methods\n",
    "    .join(payments, \"PaymentMethodID\")\n",
    "    .groupBy(\"PaymentMethodID\", \"MethodName\")\n",
    "    .agg(\n",
    "        F.countDistinct(\"OrderID\").alias(\"TotalOrdersPaid\"),\n",
    "        F.sum(F.col(\"CouponAmount\") + F.col(\"GiftCardAmount\")).alias(\"TotalPaymentAmount\"),\n",
    "        F.sum(\"CouponAmount\").alias(\"TotalCouponAmount\"),\n",
    "        F.sum(\"GiftCardAmount\").alias(\"TotalGiftCardAmount\")\n",
    "    )\n",
    ")\n",
    "\n",
    "# Compute CouponUsage\n",
    "coupon_usage = (\n",
    "    payment_methods\n",
    "    .join(payments, \"PaymentMethodID\")\n",
    "    .groupBy(\"PaymentMethodID\")\n",
    "    .agg(\n",
    "        F.count(F.when(F.col(\"CouponUsage\") == 'Yes', 1)).alias(\"TotalCouponUsage\")\n",
    "    )\n",
    ")\n",
    "\n",
    "# Compute GiftCardUsage\n",
    "gift_card_usage = (\n",
    "    payment_methods\n",
    "    .join(payments, \"PaymentMethodID\")\n",
    "    .groupBy(\"PaymentMethodID\")\n",
    "    .agg(\n",
    "        F.count(F.when(F.col(\"GiftCardUsage\") == 'Yes', 1)).alias(\"TotalGiftCardUsage\")\n",
    "    )\n",
    ")\n",
    "\n",
    "# Compute PaymentAnalysis\n",
    "payment_analysis = (\n",
    "    payment_totals\n",
    "    .join(coupon_usage, \"PaymentMethodID\", \"left\")\n",
    "    .join(gift_card_usage, \"PaymentMethodID\", \"left\")\n",
    "    .select(\n",
    "        \"PaymentMethodID\",\n",
    "        \"MethodName\",\n",
    "        \"TotalOrdersPaid\",\n",
    "        \"TotalPaymentAmount\",\n",
    "        \"TotalCouponAmount\",\n",
    "        \"TotalGiftCardAmount\",\n",
    "        F.coalesce(\"TotalCouponUsage\", F.lit(0)).alias(\"TotalCouponUsed\"),\n",
    "        F.coalesce(\"TotalGiftCardUsage\", F.lit(0)).alias(\"TotalGiftCardUsed\")\n",
    "    )\n",
    "    .orderBy(F.col(\"TotalOrdersPaid\").desc())\n",
    ")\n",
    "\n",
    "# Display the final result\n",
    "display(payment_analysis)\n",
    "\n",
    "# Save as Delta table\n",
    "payment_analysis.write.format(\"delta\").mode(\"overwrite\").saveAsTable(\"gold.payment_analysis\")"
   ]
  },
  {
   "cell_type": "code",
   "execution_count": 0,
   "metadata": {
    "application/vnd.databricks.v1+cell": {
     "cellMetadata": {
      "byteLimit": 2048000,
      "implicitDf": true,
      "rowLimit": 10000
     },
     "inputWidgets": {},
     "nuid": "8a6595ba-d318-4300-9c41-a996cb671b9f",
     "showTitle": false,
     "title": ""
    }
   },
   "outputs": [],
   "source": [
    "%sql\n",
    "select * from gold.payment_analysis"
   ]
  }
 ],
 "metadata": {
  "application/vnd.databricks.v1+notebook": {
   "dashboards": [],
   "environmentMetadata": null,
   "language": "python",
   "notebookMetadata": {
    "mostRecentlyExecutedCommandWithImplicitDF": {
     "commandId": 2690860481403109,
     "dataframes": [
      "_sqldf"
     ]
    },
    "pythonIndentUnit": 4
   },
   "notebookName": "Gold Lake",
   "widgets": {}
  }
 },
 "nbformat": 4,
 "nbformat_minor": 0
}
