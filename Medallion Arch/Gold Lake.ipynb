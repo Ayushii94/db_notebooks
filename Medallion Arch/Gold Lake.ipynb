{
 "cells": [
  {
   "cell_type": "code",
   "execution_count": 0,
   "metadata": {
    "application/vnd.databricks.v1+cell": {
     "cellMetadata": {
      "byteLimit": 2048000,
      "implicitDf": true,
      "rowLimit": 10000
     },
     "inputWidgets": {},
     "nuid": "369ef4db-09a9-4416-9fc4-29273fe7a691",
     "showTitle": false,
     "title": ""
    }
   },
   "outputs": [],
   "source": [
    "%sql\n",
    "create schema gold"
   ]
  },
  {
   "cell_type": "code",
   "execution_count": 0,
   "metadata": {
    "application/vnd.databricks.v1+cell": {
     "cellMetadata": {
      "byteLimit": 2048000,
      "implicitDf": true,
      "rowLimit": 10000
     },
     "inputWidgets": {},
     "nuid": "ee866fb3-7a3f-40d1-8e3e-bc9df296f3d5",
     "showTitle": false,
     "title": ""
    }
   },
   "outputs": [],
   "source": [
    "%sql\n",
    "use schema silver"
   ]
  },
  {
   "cell_type": "code",
   "execution_count": 0,
   "metadata": {
    "application/vnd.databricks.v1+cell": {
     "cellMetadata": {
      "byteLimit": 2048000,
      "implicitDf": true,
      "rowLimit": 10000
     },
     "inputWidgets": {},
     "nuid": "03908131-e8fa-4d9b-a2ba-d74448b56efd",
     "showTitle": false,
     "title": ""
    }
   },
   "outputs": [],
   "source": [
    "%sql\n",
    "select OrderID, sum(Sale) as Bill\n",
    "from\n",
    "(select o.OrderID, p.Product_ID, ot.Quantity, p.Discounted_Price , ot.Quantity*p.Discounted_Price as Sale\n",
    "from orders o join\n",
    "order_items ot on o.OrderID = ot.OrderID\n",
    "join products p on ot.ProductID = p.Product_ID) X\n",
    "group by OrderID"
   ]
  },
  {
   "cell_type": "code",
   "execution_count": 0,
   "metadata": {
    "application/vnd.databricks.v1+cell": {
     "cellMetadata": {
      "byteLimit": 2048000,
      "implicitDf": true,
      "rowLimit": 10000
     },
     "inputWidgets": {},
     "nuid": "976fc537-f950-4765-b9b7-8a22a097c1e4",
     "showTitle": false,
     "title": ""
    }
   },
   "outputs": [],
   "source": [
    "%sql\n",
    "WITH OrderTotals AS (\n",
    "    SELECT\n",
    "        o.CustomerID,\n",
    "        COUNT(DISTINCT o.OrderID) AS NumOrders,\n",
    "        SUM(oi.Quantity) AS BasketSize,\n",
    "        MIN(o.OrderDate) AS FirstOrderDate,\n",
    "        MAX(o.OrderDate) AS LastOrderDate\n",
    "    FROM\n",
    "        orders o\n",
    "        JOIN order_items oi ON o.OrderID = oi.OrderID\n",
    "    GROUP BY\n",
    "        o.CustomerID\n",
    "),\n",
    "CustomerAnalysis AS (\n",
    "    SELECT\n",
    "        ot.CustomerID,\n",
    "        c.Email,\n",
    "        ot.NumOrders,\n",
    "        round(ot.BasketSize / ot.NumOrders,0) AS AvgBasketSize,\n",
    "        round(DATEDIFF(ot.LastOrderDate, ot.FirstOrderDate) / NULLIF(ot.NumOrders - 1, 0),0) AS PurchaseFrequency\n",
    "    FROM\n",
    "        OrderTotals ot\n",
    "        JOIN customers c ON ot.CustomerID = c.CustomerID\n",
    ")\n",
    "SELECT\n",
    "    CustomerID,\n",
    "    Email,\n",
    "    NumOrders,\n",
    "    AvgBasketSize,\n",
    "    PurchaseFrequency\n",
    "FROM\n",
    "    CustomerAnalysis\n",
    "ORDER BY\n",
    "    NumOrders DESC;\n"
   ]
  },
  {
   "cell_type": "code",
   "execution_count": 0,
   "metadata": {
    "application/vnd.databricks.v1+cell": {
     "cellMetadata": {
      "byteLimit": 2048000,
      "rowLimit": 10000
     },
     "inputWidgets": {},
     "nuid": "7adae756-b97d-4f52-b971-16ecea74830c",
     "showTitle": false,
     "title": ""
    }
   },
   "outputs": [],
   "source": [
    "from pyspark.sql.functions import col, countDistinct, sum, min, max, datediff, round\n",
    "\n",
    "# Load data\n",
    "orders = spark.table(\"orders\")\n",
    "order_items = spark.table(\"order_items\")\n",
    "customers = spark.table(\"customers\")\n",
    "\n",
    "# Compute Order Totals\n",
    "order_totals = orders.join(order_items, orders.OrderID == order_items.OrderID) \\\n",
    "    .groupBy(\"CustomerID\") \\\n",
    "    .agg(\n",
    "        countDistinct(\"orders.OrderID\").alias(\"NumOrders\"),\n",
    "        sum(\"order_items.Quantity\").alias(\"BasketSize\"),\n",
    "        min(\"orders.OrderDate\").alias(\"FirstOrderDate\"),\n",
    "        max(\"orders.OrderDate\").alias(\"LastOrderDate\")\n",
    "    )\n",
    "\n",
    "# Compute Customer Analysis\n",
    "customer_analysis = order_totals.join(customers, \"CustomerID\") \\\n",
    "    .select(\n",
    "        col(\"CustomerID\"),\n",
    "        col(\"Email\"),\n",
    "        col(\"NumOrders\"),\n",
    "        round(col(\"BasketSize\") / col(\"NumOrders\"), 0).alias(\"AvgBasketSize\"),\n",
    "        round(datediff(col(\"LastOrderDate\"), col(\"FirstOrderDate\")) / (col(\"NumOrders\") - 1), 0).alias(\"PurchaseFrequency\")\n",
    "    )\n",
    "\n",
    "# Sort and display results\n",
    "display(customer_analysis.orderBy(col(\"NumOrders\").desc()))"
   ]
  },
  {
   "cell_type": "code",
   "execution_count": 0,
   "metadata": {
    "application/vnd.databricks.v1+cell": {
     "cellMetadata": {
      "byteLimit": 2048000,
      "rowLimit": 10000
     },
     "inputWidgets": {},
     "nuid": "b5cbcdfc-7712-48d5-967f-c64ad7d9e6a7",
     "showTitle": false,
     "title": ""
    }
   },
   "outputs": [],
   "source": [
    "customer_analysis.write.format(\"delta\").mode(\"overwrite\").saveAsTable(\"gold.customer_analysis\")"
   ]
  },
  {
   "cell_type": "code",
   "execution_count": 0,
   "metadata": {
    "application/vnd.databricks.v1+cell": {
     "cellMetadata": {
      "byteLimit": 2048000,
      "implicitDf": true,
      "rowLimit": 10000
     },
     "inputWidgets": {},
     "nuid": "d4427031-7eeb-42ad-9ea3-5cd56be6a759",
     "showTitle": false,
     "title": ""
    }
   },
   "outputs": [],
   "source": [
    "%sql\n",
    "select * from gold.customer_analysis\n",
    "order by Email"
   ]
  },
  {
   "cell_type": "code",
   "execution_count": 0,
   "metadata": {
    "application/vnd.databricks.v1+cell": {
     "cellMetadata": {
      "byteLimit": 2048000,
      "implicitDf": true,
      "rowLimit": 10000
     },
     "inputWidgets": {},
     "nuid": "fc09706f-a0e5-4241-bd8a-9bae91c18910",
     "showTitle": false,
     "title": ""
    }
   },
   "outputs": [],
   "source": [
    "%sql\n",
    "WITH VendorOrderTotals AS (\n",
    "    SELECT\n",
    "        o.VendorID,\n",
    "        COUNT(DISTINCT o.OrderID) AS NumOrders,\n",
    "        SUM(oi.Quantity) AS TotalItems,\n",
    "        MIN(o.OrderDate) AS FirstOrderDate,\n",
    "        MAX(o.OrderDate) AS LastOrderDate\n",
    "    FROM\n",
    "        Orders o\n",
    "        JOIN Order_Items oi ON o.OrderID = oi.OrderID\n",
    "    GROUP BY\n",
    "        o.VendorID\n",
    "),\n",
    "VendorAnalysis AS (\n",
    "    SELECT\n",
    "        vot.VendorID,\n",
    "        v.VendorName,\n",
    "        vot.NumOrders,\n",
    "        vot.TotalItems / vot.NumOrders AS AvgItemsPerOrder,\n",
    "        DATEDIFF(vot.LastOrderDate, vot.FirstOrderDate) / NULLIF(vot.NumOrders - 1, 0) AS OrderFrequency\n",
    "    FROM\n",
    "        VendorOrderTotals vot\n",
    "        JOIN Vendors v ON vot.VendorID = v.VendorID\n",
    ")\n",
    "SELECT\n",
    "    VendorID,\n",
    "    VendorName,\n",
    "    NumOrders,\n",
    "    AvgItemsPerOrder,\n",
    "    OrderFrequency\n",
    "FROM\n",
    "    VendorAnalysis\n",
    "ORDER BY\n",
    "    NumOrders DESC;"
   ]
  }
 ],
 "metadata": {
  "application/vnd.databricks.v1+notebook": {
   "dashboards": [],
   "environmentMetadata": null,
   "language": "python",
   "notebookMetadata": {
    "mostRecentlyExecutedCommandWithImplicitDF": {
     "commandId": 2851322349656844,
     "dataframes": [
      "_sqldf"
     ]
    },
    "pythonIndentUnit": 4
   },
   "notebookName": "Gold Lake",
   "widgets": {}
  }
 },
 "nbformat": 4,
 "nbformat_minor": 0
}
