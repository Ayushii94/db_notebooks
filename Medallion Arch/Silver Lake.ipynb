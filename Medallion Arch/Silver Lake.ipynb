{
 "cells": [
  {
   "cell_type": "code",
   "execution_count": 0,
   "metadata": {
    "application/vnd.databricks.v1+cell": {
     "cellMetadata": {
      "byteLimit": 2048000,
      "rowLimit": 10000
     },
     "inputWidgets": {},
     "nuid": "4381fc84-4eab-4186-86a5-f90f443e3061",
     "showTitle": false,
     "title": ""
    }
   },
   "outputs": [],
   "source": [
    "tables_df = spark.sql(\"SHOW TABLES IN msklenq.bronze\")\n",
    "display(tables_df)\n",
    "\n",
    "for row in tables_df.collect():\n",
    "    table_name = row['tableName']\n",
    "    df_name = f\"{table_name}_df\"\n",
    "    globals()[df_name] = spark.table(f\"msklenq.bronze.{table_name}\")"
   ]
  },
  {
   "cell_type": "code",
   "execution_count": 0,
   "metadata": {
    "application/vnd.databricks.v1+cell": {
     "cellMetadata": {
      "byteLimit": 2048000,
      "rowLimit": 10000
     },
     "inputWidgets": {},
     "nuid": "0f853ef7-706b-41fe-a6a3-e2bb7f2ebd26",
     "showTitle": false,
     "title": ""
    }
   },
   "outputs": [],
   "source": [
    "from pyspark.sql.functions import col, sum\n",
    "\n",
    "missing_values = customers_df.select([sum(col(c).isNull().cast(\"int\")).alias(c) for c in customers_df.columns])\n",
    "display(missing_values)\n",
    "\n",
    "# Check for Duplicates\n",
    "duplicate_count = customers_df.groupBy(customers_df.columns).count().filter(\"count > 1\").count()\n",
    "print(f\"Number of duplicate rows: {duplicate_count}\")\n",
    "\n",
    "# Summary Statistics\n",
    "summary_stats = customers_df.describe()\n",
    "display(summary_stats)\n",
    "\n",
    "# Check for duplicates in the customer_id column\n",
    "duplicates = customers_df.groupBy(\"CustomerID\").count().filter(\"count > 1\")\n",
    "\n",
    "# Display the duplicate customer_ids\n",
    "display(duplicates)\n",
    "\n",
    "# Optionally, count the number of duplicate customer_ids\n",
    "duplicate_count = duplicates.count()\n",
    "print(f\"Number of duplicate customer_ids: {duplicate_count}\")\n"
   ]
  },
  {
   "cell_type": "code",
   "execution_count": 0,
   "metadata": {
    "application/vnd.databricks.v1+cell": {
     "cellMetadata": {
      "byteLimit": 2048000,
      "implicitDf": true,
      "rowLimit": 10000
     },
     "inputWidgets": {},
     "nuid": "718dbbe1-fb52-47f2-92b7-955d942620cc",
     "showTitle": false,
     "title": ""
    }
   },
   "outputs": [],
   "source": [
    "%sql\n",
    "create schema silver"
   ]
  },
  {
   "cell_type": "code",
   "execution_count": 0,
   "metadata": {
    "application/vnd.databricks.v1+cell": {
     "cellMetadata": {
      "byteLimit": 2048000,
      "implicitDf": true,
      "rowLimit": 10000
     },
     "inputWidgets": {},
     "nuid": "043249e6-c9ea-41ec-8b9e-a7b2f07b58fe",
     "showTitle": false,
     "title": ""
    }
   },
   "outputs": [],
   "source": [
    "%sql\n",
    "CREATE TABLE silver.customers (\n",
    "    CustomerID VARCHAR(50) PRIMARY KEY,\n",
    "    FirstName VARCHAR(100),\n",
    "    LastName VARCHAR(100),\n",
    "    Email VARCHAR(255) NOT NULL,\n",
    "    PhoneNumber BIGINT,\n",
    "    DateOfBirth DATE,\n",
    "    RegistrationDate DATE,\n",
    "    PreferredPaymentMethodID VARCHAR(50)\n",
    ")\n",
    "USING DELTA;"
   ]
  },
  {
   "cell_type": "code",
   "execution_count": 0,
   "metadata": {
    "application/vnd.databricks.v1+cell": {
     "cellMetadata": {
      "byteLimit": 2048000,
      "rowLimit": 10000
     },
     "inputWidgets": {},
     "nuid": "5e949f3f-4483-47c1-af72-9dd1434cb1eb",
     "showTitle": false,
     "title": ""
    }
   },
   "outputs": [],
   "source": [
    "# Append data from customers_df to the silver.customers table\n",
    "customers_df.write.mode(\"append\").saveAsTable(\"silver.customers\")"
   ]
  },
  {
   "cell_type": "code",
   "execution_count": 0,
   "metadata": {
    "application/vnd.databricks.v1+cell": {
     "cellMetadata": {
      "byteLimit": 2048000,
      "implicitDf": true,
      "rowLimit": 10000
     },
     "inputWidgets": {},
     "nuid": "ac726833-474d-4032-b92d-ac54d640b9a7",
     "showTitle": false,
     "title": ""
    }
   },
   "outputs": [],
   "source": [
    "%sql\n",
    "select * from silver.customers;\n",
    "ALTER TABLE silver.customers SET TBLPROPERTIES (delta.enableChangeDataFeed = true);"
   ]
  },
  {
   "cell_type": "code",
   "execution_count": 0,
   "metadata": {
    "application/vnd.databricks.v1+cell": {
     "cellMetadata": {
      "byteLimit": 2048000,
      "rowLimit": 10000
     },
     "inputWidgets": {},
     "nuid": "02f3fa70-bb9f-42d7-ba6f-f9b12a663a72",
     "showTitle": false,
     "title": ""
    }
   },
   "outputs": [],
   "source": [
    "\n",
    "missing_values = orders_df.select([sum(col(c).isNull().cast(\"int\")).alias(c) for c in orders_df.columns])\n",
    "display(missing_values)\n",
    "\n",
    "# Check for Duplicates\n",
    "duplicate_count = orders_df.groupBy(orders_df.columns).count().filter(\"count > 1\").count()\n",
    "print(f\"Number of duplicate rows: {duplicate_count}\")\n",
    "\n",
    "# Summary Statistics\n",
    "summary_stats = orders_df.describe()\n",
    "display(summary_stats)\n",
    "\n",
    "# Check for duplicates in the OrderID column\n",
    "duplicates = orders_df.groupBy(\"OrderID\").count().filter(\"count > 1\")\n",
    "\n",
    "# Display the duplicate OrderID\n",
    "display(duplicates)\n",
    "\n",
    "# Optionally, count the number of duplicate OrderID\n",
    "duplicate_count = duplicates.count()\n",
    "print(f\"Number of duplicate OrderID: {duplicate_count}\")"
   ]
  },
  {
   "cell_type": "code",
   "execution_count": 0,
   "metadata": {
    "application/vnd.databricks.v1+cell": {
     "cellMetadata": {
      "byteLimit": 2048000,
      "rowLimit": 10000
     },
     "inputWidgets": {},
     "nuid": "35807362-57bb-41d0-aaf9-2caa92dd07e4",
     "showTitle": false,
     "title": ""
    }
   },
   "outputs": [],
   "source": [
    "# integrity check\n",
    "\n",
    "# Find CustomerID in orders_df that are not in customers_df using left anti join\n",
    "non_matching_customer_ids = orders_df.join(customers_df, orders_df.CustomerID == customers_df.CustomerID, \"left_anti\")\n",
    "\n",
    "# Display the result\n",
    "display(non_matching_customer_ids)"
   ]
  },
  {
   "cell_type": "code",
   "execution_count": 0,
   "metadata": {
    "application/vnd.databricks.v1+cell": {
     "cellMetadata": {
      "byteLimit": 2048000,
      "implicitDf": true,
      "rowLimit": 10000
     },
     "inputWidgets": {},
     "nuid": "a8ae63f1-d543-4116-9e40-aad8000ed974",
     "showTitle": false,
     "title": ""
    }
   },
   "outputs": [],
   "source": [
    "%sql\n",
    "\n",
    "CREATE TABLE silver.orders (\n",
    "    OrderID VARCHAR(50) PRIMARY KEY,\n",
    "    CustomerID VARCHAR(50),\n",
    "    OrderDate TIMESTAMP NOT NULL,\n",
    "    ShippingDate TIMESTAMP,\n",
    "    ExpectedDeliveryDate TIMESTAMP,\n",
    "    ActualDeliveryDate TIMESTAMP,\n",
    "    ShippingMethodID VARCHAR(50),\n",
    "    VendorID VARCHAR(50),\n",
    "    FOREIGN KEY (CustomerID) REFERENCES silver.customers(CustomerID),\n",
    "    FOREIGN KEY (VendorID) REFERENCES silver.vendors(VendorID),\n",
    "    FOREIGN KEY (ShippingMethodID) REFERENCES silver.shipping_methods(ShippingMethodID)\n",
    ")\n",
    "USING DELTA;\n"
   ]
  },
  {
   "cell_type": "code",
   "execution_count": 0,
   "metadata": {
    "application/vnd.databricks.v1+cell": {
     "cellMetadata": {
      "byteLimit": 2048000,
      "rowLimit": 10000
     },
     "inputWidgets": {},
     "nuid": "6cb302cf-0b8e-46ad-aa98-d8c1968d9f35",
     "showTitle": false,
     "title": ""
    }
   },
   "outputs": [],
   "source": [
    "# Append data from orders_df to the silver.orders table\n",
    "orders_df.write.mode(\"append\").saveAsTable(\"silver.orders\")"
   ]
  },
  {
   "cell_type": "code",
   "execution_count": 0,
   "metadata": {
    "application/vnd.databricks.v1+cell": {
     "cellMetadata": {
      "byteLimit": 2048000,
      "implicitDf": true,
      "rowLimit": 10000
     },
     "inputWidgets": {},
     "nuid": "58e36959-9575-408b-93cc-b05d2a3e1f69",
     "showTitle": false,
     "title": ""
    }
   },
   "outputs": [],
   "source": [
    "%sql\n",
    "\n",
    "select *  from silver.orders"
   ]
  },
  {
   "cell_type": "code",
   "execution_count": 0,
   "metadata": {
    "application/vnd.databricks.v1+cell": {
     "cellMetadata": {
      "byteLimit": 2048000,
      "rowLimit": 10000
     },
     "inputWidgets": {},
     "nuid": "bc91ec18-7ed3-4f68-beb5-4a87da93eee2",
     "showTitle": false,
     "title": ""
    }
   },
   "outputs": [],
   "source": [
    "shipping_methods_df.display()"
   ]
  },
  {
   "cell_type": "code",
   "execution_count": 0,
   "metadata": {
    "application/vnd.databricks.v1+cell": {
     "cellMetadata": {
      "byteLimit": 2048000,
      "implicitDf": true,
      "rowLimit": 10000
     },
     "inputWidgets": {},
     "nuid": "ae777b3d-4280-457f-9b3e-d27cafc41c37",
     "showTitle": false,
     "title": ""
    }
   },
   "outputs": [],
   "source": [
    "%sql\n",
    "CREATE TABLE silver.vendors (\n",
    "    VendorID VARCHAR(50) PRIMARY KEY,\n",
    "    VendorName VARCHAR(255)\n",
    ")\n",
    "USING DELTA;\n",
    "\n",
    "CREATE TABLE silver.shipping_methods (\n",
    "    ShippingMethodID VARCHAR(50) PRIMARY KEY,\n",
    "    MethodName VARCHAR(255),\n",
    "    Cost_Rs int\n",
    ")\n",
    "USING DELTA;"
   ]
  },
  {
   "cell_type": "code",
   "execution_count": 0,
   "metadata": {
    "application/vnd.databricks.v1+cell": {
     "cellMetadata": {
      "byteLimit": 2048000,
      "rowLimit": 10000
     },
     "inputWidgets": {},
     "nuid": "2be62b8e-6bdb-49b5-9da2-1dae2f957361",
     "showTitle": false,
     "title": ""
    }
   },
   "outputs": [],
   "source": [
    "\n",
    "# Append data from vendors_df to the silver.vendor table\n",
    "vendors_df.write.mode(\"append\").saveAsTable(\"silver.vendors\")\n",
    "\n",
    "# Append data from silver.shipping_methods to the silver.shipping_methods table\n",
    "shipping_methods_df.write.mode(\"append\").saveAsTable(\"silver.shipping_methods\")"
   ]
  },
  {
   "cell_type": "code",
   "execution_count": 0,
   "metadata": {
    "application/vnd.databricks.v1+cell": {
     "cellMetadata": {
      "byteLimit": 2048000,
      "rowLimit": 10000
     },
     "inputWidgets": {},
     "nuid": "ed2352cc-004b-42fd-bc00-6b4b54ae4f13",
     "showTitle": false,
     "title": ""
    }
   },
   "outputs": [],
   "source": [
    "products_df.display()\n",
    "payment_methods_df.display()"
   ]
  },
  {
   "cell_type": "code",
   "execution_count": 0,
   "metadata": {
    "application/vnd.databricks.v1+cell": {
     "cellMetadata": {
      "byteLimit": 2048000,
      "rowLimit": 10000
     },
     "inputWidgets": {},
     "nuid": "189e66bd-20ab-4812-b41f-ee53b19965c2",
     "showTitle": false,
     "title": ""
    }
   },
   "outputs": [],
   "source": [
    "from pyspark.sql.functions import col, sum\n",
    "missing_values = products_df.select([sum(col(c).isNull().cast(\"int\")).alias(c) for c in products_df.columns])\n",
    "display(missing_values)\n",
    "\n",
    "# Check for Duplicates\n",
    "duplicate_count = products_df.groupBy(products_df.columns).count().filter(\"count > 1\").count()\n",
    "print(f\"Number of duplicate rows: {duplicate_count}\")\n",
    "\n",
    "# Summary Statistics\n",
    "summary_stats = products_df.describe()\n",
    "display(summary_stats)\n"
   ]
  },
  {
   "cell_type": "code",
   "execution_count": 0,
   "metadata": {
    "application/vnd.databricks.v1+cell": {
     "cellMetadata": {
      "byteLimit": 2048000,
      "rowLimit": 10000
     },
     "inputWidgets": {},
     "nuid": "3e8277c2-629b-4c92-b101-166b15d0fd5d",
     "showTitle": false,
     "title": ""
    }
   },
   "outputs": [],
   "source": [
    "# Get data types of all columns of products_df\n",
    "data_types = products_df.dtypes\n",
    "display(data_types)"
   ]
  },
  {
   "cell_type": "code",
   "execution_count": 0,
   "metadata": {
    "application/vnd.databricks.v1+cell": {
     "cellMetadata": {
      "byteLimit": 2048000,
      "implicitDf": true,
      "rowLimit": 10000
     },
     "inputWidgets": {},
     "nuid": "b54d681e-dd9c-4ce4-a6de-513411a2939a",
     "showTitle": false,
     "title": ""
    }
   },
   "outputs": [],
   "source": [
    "%sql\n",
    "\n",
    "CREATE TABLE silver.payment_methods (\n",
    "    PaymentMethodID VARCHAR(50) PRIMARY KEY,\n",
    "    MethodName VARCHAR(255)\n",
    ")\n",
    "USING DELTA;\n",
    "\n"
   ]
  },
  {
   "cell_type": "code",
   "execution_count": 0,
   "metadata": {
    "application/vnd.databricks.v1+cell": {
     "cellMetadata": {
      "byteLimit": 2048000,
      "implicitDf": true,
      "rowLimit": 10000
     },
     "inputWidgets": {},
     "nuid": "edba944e-722f-4efb-a9d7-545aaa2aa026",
     "showTitle": false,
     "title": ""
    }
   },
   "outputs": [],
   "source": [
    "%sql\n",
    "drop table silver.products;\n",
    "CREATE TABLE silver.products (\n",
    "    Product_ID VARCHAR(50) PRIMARY KEY,\n",
    "    Product_Name VARCHAR(255) NOT NULL,\n",
    "    Product_Category VARCHAR(100),\n",
    "    Product_Sub_Category VARCHAR(100),\n",
    "    Product_Rating DOUBLE,\n",
    "    Number_of_product_ratings DOUBLE,\n",
    "    Discounted_Price int,\n",
    "    Actual_Price int\n",
    ");"
   ]
  },
  {
   "cell_type": "code",
   "execution_count": 0,
   "metadata": {
    "application/vnd.databricks.v1+cell": {
     "cellMetadata": {
      "byteLimit": 2048000,
      "rowLimit": 10000
     },
     "inputWidgets": {},
     "nuid": "a9deddf5-07c5-49b9-9082-8d4188cda441",
     "showTitle": false,
     "title": ""
    }
   },
   "outputs": [],
   "source": [
    "products_df.display()"
   ]
  },
  {
   "cell_type": "code",
   "execution_count": 0,
   "metadata": {
    "application/vnd.databricks.v1+cell": {
     "cellMetadata": {
      "byteLimit": 2048000,
      "rowLimit": 10000
     },
     "inputWidgets": {},
     "nuid": "14900218-7aef-465c-9901-28639fa4bb81",
     "showTitle": false,
     "title": ""
    }
   },
   "outputs": [],
   "source": [
    "# Remove currency symbols and commas\n",
    "df_cleaned = products_df.withColumn(\"Actual_Price_Cleaned\", regexp_replace(col(\"Actual_Price\"), \"[₹]\", \"\")) \\\n",
    "               .withColumn(\"Actual_Price_Cleaned\", regexp_replace(col(\"Actual_Price_Cleaned\"), \",\", \"\"))\n",
    "df_cleaned.display()\n"
   ]
  },
  {
   "cell_type": "code",
   "execution_count": 0,
   "metadata": {
    "application/vnd.databricks.v1+cell": {
     "cellMetadata": {
      "byteLimit": 2048000,
      "rowLimit": 10000
     },
     "inputWidgets": {},
     "nuid": "b38266f7-8b05-46c8-8e5b-5250c9c8af94",
     "showTitle": false,
     "title": ""
    }
   },
   "outputs": [],
   "source": [
    "from pyspark.sql.functions import regexp_replace, col\n",
    "\n",
    "# Cast columns to appropriate data types\n",
    "products_df = products_df.withColumn(\"Product_Rating\", products_df[\"Product_Rating\"].cast(\"double\"))\n",
    "products_df = products_df.withColumn(\"Number_of_product_ratings\", products_df[\"Number_of_product_ratings\"].cast(\"double\"))\n",
    "products_df = products_df.withColumn(\"Actual_Price\", regexp_replace(col(\"Actual_Price\"), \"[₹]\", \"\")) \\\n",
    "               .withColumn(\"Actual_Price\", regexp_replace(col(\"Actual_Price\"), \",\", \"\").cast(\"int\"))\n",
    "products_df = products_df.withColumn(\"Discounted_Price\", regexp_replace(col(\"Discounted_Price\"), \"[₹]\", \"\")) \\\n",
    "               .withColumn(\"Discounted_Price\", regexp_replace(col(\"Discounted_Price\"), \",\", \"\").cast(\"int\"))\n",
    "products_df.display()\n"
   ]
  },
  {
   "cell_type": "code",
   "execution_count": 0,
   "metadata": {
    "application/vnd.databricks.v1+cell": {
     "cellMetadata": {
      "byteLimit": 2048000,
      "rowLimit": 10000
     },
     "inputWidgets": {},
     "nuid": "178796d0-e67f-4d2e-9a00-e28fa824950f",
     "showTitle": false,
     "title": ""
    }
   },
   "outputs": [],
   "source": [
    "# Append data to the silver.products table with schema merging\n",
    "products_df.write.mode(\"append\").option(\"mergeSchema\", \"true\").saveAsTable(\"silver.products\")"
   ]
  },
  {
   "cell_type": "code",
   "execution_count": 0,
   "metadata": {
    "application/vnd.databricks.v1+cell": {
     "cellMetadata": {
      "byteLimit": 2048000,
      "implicitDf": true,
      "rowLimit": 10000
     },
     "inputWidgets": {},
     "nuid": "9c865d1b-bed3-4b23-96b8-49a78b944972",
     "showTitle": false,
     "title": ""
    }
   },
   "outputs": [],
   "source": [
    "%sql\n",
    "\n",
    "select * from silver.products"
   ]
  },
  {
   "cell_type": "code",
   "execution_count": 0,
   "metadata": {
    "application/vnd.databricks.v1+cell": {
     "cellMetadata": {},
     "inputWidgets": {},
     "nuid": "6668d94a-8676-459b-8f08-7b997068ff83",
     "showTitle": false,
     "title": ""
    }
   },
   "outputs": [],
   "source": [
    "from pyspark.sql.functions import regexp_replace, col\n",
    "\n",
    "# Remove the $ symbol and convert the column to integer\n",
    "products_df = products_df.withColumn(\"Actual_Price\", regexp_replace(col(\"Actual_Price\"), \"[₹]\", \"\").cast(\"int\"))\n",
    "\n",
    "display(products_df)"
   ]
  },
  {
   "cell_type": "code",
   "execution_count": 0,
   "metadata": {
    "application/vnd.databricks.v1+cell": {
     "cellMetadata": {
      "byteLimit": 2048000,
      "rowLimit": 10000
     },
     "inputWidgets": {},
     "nuid": "c98943a0-3b71-4744-9f65-3a1743b0ad48",
     "showTitle": false,
     "title": ""
    }
   },
   "outputs": [],
   "source": [
    "\n",
    "# Append data from payment_methods_df to the silver.payment_methods table\n",
    "payment_methods_df.write.mode(\"append\").saveAsTable(\"silver.payment_methods\")"
   ]
  },
  {
   "cell_type": "code",
   "execution_count": 0,
   "metadata": {
    "application/vnd.databricks.v1+cell": {
     "cellMetadata": {
      "byteLimit": 2048000,
      "implicitDf": true,
      "rowLimit": 10000
     },
     "inputWidgets": {},
     "nuid": "c317f5d1-3e53-4dca-8551-9ed1ad1c50b9",
     "showTitle": false,
     "title": ""
    }
   },
   "outputs": [],
   "source": [
    "%sql\n",
    "select * from silver.products"
   ]
  },
  {
   "cell_type": "code",
   "execution_count": 0,
   "metadata": {
    "application/vnd.databricks.v1+cell": {
     "cellMetadata": {
      "byteLimit": 2048000,
      "implicitDf": true,
      "rowLimit": 10000
     },
     "inputWidgets": {},
     "nuid": "57097806-408c-4bf2-a0c5-dc6a382a41bf",
     "showTitle": false,
     "title": ""
    }
   },
   "outputs": [],
   "source": [
    "%sql\n",
    "CREATE TABLE silver.order_items (\n",
    "    OrderItemID VARCHAR(50) PRIMARY KEY,\n",
    "    OrderID VARCHAR(50),\n",
    "    ProductID VARCHAR(50),\n",
    "    Quantity INT,\n",
    "    FOREIGN KEY (OrderID) REFERENCES silver.orders(OrderID),\n",
    "    FOREIGN KEY (ProductID) REFERENCES silver.products(Product_ID)\n",
    ")\n",
    "USING DELTA;\n",
    "\n",
    "CREATE TABLE silver.payments (\n",
    "    PaymentID VARCHAR(50) PRIMARY KEY,\n",
    "    OrderID VARCHAR(50),\n",
    "    PaymentDate TIMESTAMP,\n",
    "    GiftCardUsage VARCHAR(30),\n",
    "    GiftCardAmount DOUBLE,\n",
    "    CouponUsage VARCHAR(30),\n",
    "    CouponAmount DOUBLE,\n",
    "    PaymentMethodID VARCHAR(50),\n",
    "    FOREIGN KEY (OrderID) REFERENCES silver.orders(OrderID)\n",
    ")\n",
    "USING DELTA;\n",
    "\n",
    "CREATE TABLE silver.returns (\n",
    "    OrderID VARCHAR(50),\n",
    "    Return_reason VARCHAR(500),\n",
    "    FOREIGN KEY (OrderID) REFERENCES silver.orders(OrderID)\n",
    ")\n",
    "USING DELTA;\n",
    "\n",
    "CREATE TABLE silver.addresses (\n",
    "    AddressID VARCHAR(255) PRIMARY KEY,\n",
    "    CustomerID VARCHAR(255),\n",
    "    AddressLine1 VARCHAR(500),\n",
    "    City VARCHAR(255),\n",
    "    State VARCHAR(255),\n",
    "    PinCode FLOAT,\n",
    "    AddressType VARCHAR(255),\n",
    "    FOREIGN KEY (CustomerID) REFERENCES silver.customers(CustomerID)\n",
    ")\n",
    "USING DELTA;"
   ]
  },
  {
   "cell_type": "code",
   "execution_count": 0,
   "metadata": {
    "application/vnd.databricks.v1+cell": {
     "cellMetadata": {
      "byteLimit": 2048000,
      "rowLimit": 10000
     },
     "inputWidgets": {},
     "nuid": "5ab8eab9-5031-4723-9511-fb9860be1920",
     "showTitle": false,
     "title": ""
    }
   },
   "outputs": [],
   "source": [
    "payments_df.write.mode(\"append\").saveAsTable(\"silver.payments\")\n",
    "returns_df.write.mode(\"append\").saveAsTable(\"silver.returns\")\n",
    "order_items_df.write.mode(\"append\").saveAsTable(\"silver.order_items\")"
   ]
  },
  {
   "cell_type": "code",
   "execution_count": 0,
   "metadata": {
    "application/vnd.databricks.v1+cell": {
     "cellMetadata": {
      "byteLimit": 2048000,
      "rowLimit": 10000
     },
     "inputWidgets": {},
     "nuid": "c6a3022c-db15-45a4-a761-7742e02536f7",
     "showTitle": false,
     "title": ""
    }
   },
   "outputs": [],
   "source": [
    "# Convert 'PinCode' field to the correct data type if needed\n",
    "addresses_df = addresses_df.withColumn(\"PinCode\", col(\"PinCode\").cast(\"float\"))\n",
    "\n",
    "# Save the DataFrame as a table\n",
    "addresses_df.write.mode(\"append\").option(\"mergeSchema\", \"true\").saveAsTable(\"silver.addresses\")"
   ]
  },
  {
   "cell_type": "code",
   "execution_count": 0,
   "metadata": {
    "application/vnd.databricks.v1+cell": {
     "cellMetadata": {
      "byteLimit": 2048000,
      "implicitDf": true,
      "rowLimit": 10000
     },
     "inputWidgets": {},
     "nuid": "c9179761-9d79-4447-a8c8-281c014b972a",
     "showTitle": false,
     "title": ""
    }
   },
   "outputs": [],
   "source": [
    "%sql\n",
    "select * from silver.addresses"
   ]
  }
 ],
 "metadata": {
  "application/vnd.databricks.v1+notebook": {
   "dashboards": [],
   "environmentMetadata": null,
   "language": "python",
   "notebookMetadata": {
    "mostRecentlyExecutedCommandWithImplicitDF": {
     "commandId": 3765711656940336,
     "dataframes": [
      "_sqldf"
     ]
    },
    "pythonIndentUnit": 4
   },
   "notebookName": "Silver Lake",
   "widgets": {}
  }
 },
 "nbformat": 4,
 "nbformat_minor": 0
}
