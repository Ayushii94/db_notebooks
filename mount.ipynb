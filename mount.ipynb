{
 "cells": [
  {
   "cell_type": "code",
   "execution_count": 0,
   "metadata": {
    "application/vnd.databricks.v1+cell": {
     "cellMetadata": {
      "byteLimit": 2048000,
      "rowLimit": 10000
     },
     "inputWidgets": {},
     "nuid": "f6c4ab08-e429-4327-a2c6-425840b4259c",
     "showTitle": false,
     "title": ""
    }
   },
   "outputs": [],
   "source": [
    "dbutils.fs.unmount(\"/mnt/ayushi_ecom\")\n",
    "\n",
    "# Set up the configurations for mounting the GCS bucket\n",
    "gcs_bucket_name = \"msklstoregss\"\n",
    "mount_point = \"/mnt/ayushi_ecom\"\n",
    "project_id=\"mentorsko-1700569461081\"\n",
    "service_account_key = \"/dbfs/FileStore/tables/mentorsko_1700569461081_66d846c2481a.json\"\n",
    "\n",
    "# Define the GCS service account credentials\n",
    "config = {\n",
    "\"fs.gs.project.id\": project_id,\n",
    "\"fs.gs.auth.service.account.json.keyfile\": service_account_key # keyfile should be indicating to the abs path of credentials.json\n",
    "}\n",
    "\n",
    "\n",
    "# Mount the GCS bucket\n",
    "dbutils.fs.mount(\n",
    "    source = f\"gs://{gcs_bucket_name}\",\n",
    "    mount_point = mount_point,\n",
    "    extra_configs = config\n",
    ")\n",
    "\n",
    "# Display the contents of the mounted directory to verify\n",
    "display(dbutils.fs.ls(mount_point))"
   ]
  },
  {
   "cell_type": "code",
   "execution_count": 0,
   "metadata": {
    "application/vnd.databricks.v1+cell": {
     "cellMetadata": {
      "byteLimit": 2048000,
      "rowLimit": 10000
     },
     "inputWidgets": {},
     "nuid": "fabc0988-553b-48d5-a524-ba69e349ae20",
     "showTitle": false,
     "title": ""
    }
   },
   "outputs": [],
   "source": [
    "df=spark.read.format(\"csv\").option(\"header\",\"true\").option(\"inferschema\",\"true\").load(\"dbfs:/mnt/ayushi_ecom/addresses.csv\")\n",
    "display(df)"
   ]
  }
 ],
 "metadata": {
  "application/vnd.databricks.v1+notebook": {
   "dashboards": [],
   "environmentMetadata": null,
   "language": "python",
   "notebookMetadata": {
    "pythonIndentUnit": 4
   },
   "notebookName": "mount",
   "widgets": {}
  }
 },
 "nbformat": 4,
 "nbformat_minor": 0
}
